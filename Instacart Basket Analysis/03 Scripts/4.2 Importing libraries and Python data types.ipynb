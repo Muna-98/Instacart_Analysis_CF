{
 "cells": [
  {
   "cell_type": "markdown",
   "id": "9fed5736",
   "metadata": {},
   "source": [
    "### Contents\n",
    "    01. Importing libraries\n",
    "    02. Data types"
   ]
  },
  {
   "cell_type": "markdown",
   "id": "9f1a1ed4",
   "metadata": {},
   "source": [
    "# 01. Importing libraries"
   ]
  },
  {
   "cell_type": "code",
   "execution_count": null,
   "id": "07f82fe6",
   "metadata": {},
   "outputs": [],
   "source": [
    "# Import libraries"
   ]
  },
  {
   "cell_type": "code",
   "execution_count": 8,
   "id": "d6b59bf8",
   "metadata": {},
   "outputs": [],
   "source": [
    "import pandas as pd\n",
    "import numpy as np\n",
    "import os"
   ]
  },
  {
   "cell_type": "markdown",
   "id": "b5a9ce67",
   "metadata": {},
   "source": [
    "# 02. Data types"
   ]
  },
  {
   "cell_type": "code",
   "execution_count": null,
   "id": "2f202ae6",
   "metadata": {},
   "outputs": [],
   "source": [
    "#Working with data types"
   ]
  },
  {
   "cell_type": "code",
   "execution_count": 3,
   "id": "e77c0d8c",
   "metadata": {},
   "outputs": [
    {
     "name": "stdout",
     "output_type": "stream",
     "text": [
      "100\n"
     ]
    }
   ],
   "source": [
    "print(2*50)"
   ]
  },
  {
   "cell_type": "code",
   "execution_count": 1,
   "id": "26f4554c",
   "metadata": {},
   "outputs": [
    {
     "data": {
      "text/plain": [
       "100"
      ]
     },
     "execution_count": 1,
     "metadata": {},
     "output_type": "execute_result"
    }
   ],
   "source": [
    "x=90\n",
    "x+10"
   ]
  },
  {
   "cell_type": "code",
   "execution_count": 2,
   "id": "daf782db",
   "metadata": {},
   "outputs": [
    {
     "data": {
      "text/plain": [
       "100"
      ]
     },
     "execution_count": 2,
     "metadata": {},
     "output_type": "execute_result"
    }
   ],
   "source": [
    "x=300\n",
    "y=200\n",
    "x-y"
   ]
  },
  {
   "cell_type": "code",
   "execution_count": 4,
   "id": "f9f743d9",
   "metadata": {},
   "outputs": [
    {
     "data": {
      "text/plain": [
       "4.078117418728772"
      ]
     },
     "execution_count": 4,
     "metadata": {},
     "output_type": "execute_result"
    }
   ],
   "source": [
    "x=16.810\n",
    "y=4.122\n",
    "x/y"
   ]
  },
  {
   "cell_type": "code",
   "execution_count": 5,
   "id": "08951c58",
   "metadata": {},
   "outputs": [
    {
     "data": {
      "text/plain": [
       "'Hello, World!'"
      ]
     },
     "execution_count": 5,
     "metadata": {},
     "output_type": "execute_result"
    }
   ],
   "source": [
    "a='Hello, '\n",
    "b='World!'\n",
    "a+b"
   ]
  },
  {
   "cell_type": "code",
   "execution_count": 11,
   "id": "0f5f29a1",
   "metadata": {},
   "outputs": [
    {
     "data": {
      "text/plain": [
       "\"Hello, World! I'm learning Python.\""
      ]
     },
     "execution_count": 11,
     "metadata": {},
     "output_type": "execute_result"
    }
   ],
   "source": [
    "a='Hello, World!'\n",
    "b='I\\'m learning Python.'\n",
    "a+' '+b"
   ]
  },
  {
   "cell_type": "code",
   "execution_count": 14,
   "id": "9bcba896",
   "metadata": {},
   "outputs": [
    {
     "name": "stdout",
     "output_type": "stream",
     "text": [
      "Python!\n",
      "Python!\n",
      "Python!\n",
      "Python!\n",
      "Python!\n",
      "Python!\n",
      "Python!\n",
      "Python!\n",
      "Python!\n",
      "Python!\n",
      "Python!\n",
      "Python!\n",
      "Python!\n",
      "Python!\n",
      "Python!\n",
      "Python!\n",
      "Python!\n",
      "Python!\n",
      "Python!\n",
      "Python!\n",
      "Python!\n",
      "Python!\n",
      "Python!\n",
      "Python!\n",
      "Python!\n",
      "Python!\n",
      "Python!\n",
      "Python!\n",
      "Python!\n",
      "Python!\n",
      "Python!\n",
      "Python!\n",
      "Python!\n",
      "Python!\n",
      "Python!\n",
      "Python!\n",
      "Python!\n",
      "Python!\n",
      "Python!\n",
      "Python!\n",
      "Python!\n",
      "Python!\n",
      "Python!\n",
      "Python!\n",
      "Python!\n",
      "Python!\n",
      "Python!\n",
      "Python!\n",
      "Python!\n",
      "Python!\n",
      "Python!\n",
      "Python!\n",
      "Python!\n",
      "Python!\n",
      "Python!\n",
      "Python!\n",
      "Python!\n",
      "Python!\n",
      "Python!\n",
      "Python!\n",
      "Python!\n",
      "Python!\n",
      "Python!\n",
      "Python!\n",
      "Python!\n",
      "Python!\n",
      "Python!\n",
      "Python!\n",
      "Python!\n",
      "Python!\n",
      "Python!\n",
      "Python!\n",
      "Python!\n",
      "Python!\n",
      "Python!\n",
      "Python!\n",
      "Python!\n",
      "Python!\n",
      "Python!\n",
      "Python!\n",
      "Python!\n",
      "Python!\n",
      "Python!\n",
      "Python!\n",
      "Python!\n",
      "Python!\n",
      "Python!\n",
      "Python!\n",
      "Python!\n",
      "Python!\n",
      "Python!\n",
      "Python!\n",
      "Python!\n",
      "Python!\n",
      "Python!\n",
      "Python!\n",
      "Python!\n",
      "Python!\n",
      "Python!\n",
      "Python!\n"
     ]
    }
   ],
   "source": [
    "i=0\n",
    "while i<100:\n",
    "  print('Python!')\n",
    "  i+=1\n",
    "  "
   ]
  },
  {
   "cell_type": "code",
   "execution_count": null,
   "id": "02b74bda",
   "metadata": {},
   "outputs": [],
   "source": []
  }
 ],
 "metadata": {
  "kernelspec": {
   "display_name": "Python 3 (ipykernel)",
   "language": "python",
   "name": "python3"
  },
  "language_info": {
   "codemirror_mode": {
    "name": "ipython",
    "version": 3
   },
   "file_extension": ".py",
   "mimetype": "text/x-python",
   "name": "python",
   "nbconvert_exporter": "python",
   "pygments_lexer": "ipython3",
   "version": "3.9.12"
  }
 },
 "nbformat": 4,
 "nbformat_minor": 5
}
