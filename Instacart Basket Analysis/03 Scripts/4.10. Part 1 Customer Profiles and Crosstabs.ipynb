{
 "cells": [
  {
   "cell_type": "markdown",
   "id": "bc04f1f2",
   "metadata": {},
   "source": [
    "### Contents\n",
    "    01. Exporting visualizations\n",
    "    02. Data checks and preparation\n",
    "        a. Checking the main dataframe\n",
    "        b. Checking the departments dataframe\n",
    "        c. Merging the dataframes\n",
    "    03. PII issues\n",
    "    04. Comparing regions\n",
    "    05. Creating exclusion flag for low-activity customers\n",
    "    06. Creating customer profiles\n",
    "        a. Age profile\n",
    "        b. Income profile\n",
    "        c. Number of Dependants Profile\n",
    "        d. Baby stuff Profile\n",
    "        e. Pet profile\n",
    "        f. Vegetarian profile\n",
    "        g. Alcohol drinker Profile \n",
    "    07. Aggregating the max, mean, and min variables on a customer-profile level for usage frequency and expenditure.\n",
    "        a. Age profile aggregation\n",
    "        b. Income profile aggregation\n",
    "        c. Number of Dependants Profile aggregation\n",
    "        d. Baby stuff Profile aggregation\n",
    "        e. Pet profile aggregation\n",
    "        f. Vegetarian profile aggregation\n",
    "        g. Alcohol drinker Profile aggregation\n",
    "    08. Creating visualizations to show the distribution of profiles\n",
    "        a. Age profile distribution\n",
    "        b. Income profile distribution\n",
    "        c. Number of Dependants Profile distribution\n",
    "        d. Baby stuff Profile distribution\n",
    "        e. Pet profile distribution\n",
    "        f. Vegetarian profile distribution\n",
    "        g. Alcohol drinker Profile distribution\n",
    "    09. Exporting visualizations"
   ]
  },
  {
   "cell_type": "markdown",
   "id": "c1222243",
   "metadata": {},
   "source": [
    "# 01. Importing libraries and data"
   ]
  },
  {
   "cell_type": "code",
   "execution_count": 1,
   "id": "f5815ae8",
   "metadata": {},
   "outputs": [],
   "source": [
    "#Importing libraries\n",
    "import pandas as pd\n",
    "import numpy as np\n",
    "import os\n",
    "import matplotlib.pyplot as plt\n",
    "import seaborn as sns\n",
    "import scipy"
   ]
  },
  {
   "cell_type": "code",
   "execution_count": 2,
   "id": "8316a34a",
   "metadata": {},
   "outputs": [],
   "source": [
    "#Importing data\n",
    "path= r'C:\\Users\\Мунаввар\\Desktop\\bootcamps\\Achievement 4\\Instacart Basket Analysis'\n",
    "df=pd.read_pickle(os.path.join(path, '02 Data', 'Prepared Data', 'final_updated.pkl'))\n",
    "df_departments=pd.read_csv(os.path.join(path, '02 Data', 'Prepared Data', 'departments_wrangled.csv'), index_col=False)"
   ]
  },
  {
   "cell_type": "markdown",
   "id": "46f6ed02",
   "metadata": {},
   "source": [
    "# 02. Data checks and preparation"
   ]
  },
  {
   "cell_type": "markdown",
   "id": "f77e7211",
   "metadata": {},
   "source": [
    "### a. Checking the main dataframe"
   ]
  },
  {
   "cell_type": "code",
   "execution_count": 3,
   "id": "e173f8c8",
   "metadata": {},
   "outputs": [
    {
     "data": {
      "text/plain": [
       "(32404859, 32)"
      ]
     },
     "execution_count": 3,
     "metadata": {},
     "output_type": "execute_result"
    }
   ],
   "source": [
    "df.shape"
   ]
  },
  {
   "cell_type": "code",
   "execution_count": 4,
   "id": "026c4af9",
   "metadata": {
    "scrolled": false
   },
   "outputs": [
    {
     "data": {
      "text/html": [
       "<div>\n",
       "<style scoped>\n",
       "    .dataframe tbody tr th:only-of-type {\n",
       "        vertical-align: middle;\n",
       "    }\n",
       "\n",
       "    .dataframe tbody tr th {\n",
       "        vertical-align: top;\n",
       "    }\n",
       "\n",
       "    .dataframe thead th {\n",
       "        text-align: right;\n",
       "    }\n",
       "</style>\n",
       "<table border=\"1\" class=\"dataframe\">\n",
       "  <thead>\n",
       "    <tr style=\"text-align: right;\">\n",
       "      <th></th>\n",
       "      <th>order_id</th>\n",
       "      <th>customer_id</th>\n",
       "      <th>order_number</th>\n",
       "      <th>order_day_of_week</th>\n",
       "      <th>order_hour_of_day</th>\n",
       "      <th>days_since_prior_order</th>\n",
       "      <th>product_id</th>\n",
       "      <th>add_to_cart_order</th>\n",
       "      <th>reordered</th>\n",
       "      <th>product_name</th>\n",
       "      <th>...</th>\n",
       "      <th>order_frequency_flag</th>\n",
       "      <th>first_name</th>\n",
       "      <th>last_name</th>\n",
       "      <th>gender</th>\n",
       "      <th>state</th>\n",
       "      <th>age</th>\n",
       "      <th>date_joined</th>\n",
       "      <th>number_of_dependants</th>\n",
       "      <th>fam_status</th>\n",
       "      <th>income</th>\n",
       "    </tr>\n",
       "  </thead>\n",
       "  <tbody>\n",
       "    <tr>\n",
       "      <th>0</th>\n",
       "      <td>2539329</td>\n",
       "      <td>1</td>\n",
       "      <td>1</td>\n",
       "      <td>2</td>\n",
       "      <td>8</td>\n",
       "      <td>NaN</td>\n",
       "      <td>196</td>\n",
       "      <td>1</td>\n",
       "      <td>0</td>\n",
       "      <td>Soda</td>\n",
       "      <td>...</td>\n",
       "      <td>Non-frequent customer</td>\n",
       "      <td>Linda</td>\n",
       "      <td>Nguyen</td>\n",
       "      <td>Female</td>\n",
       "      <td>Alabama</td>\n",
       "      <td>31</td>\n",
       "      <td>2/17/2019</td>\n",
       "      <td>3</td>\n",
       "      <td>married</td>\n",
       "      <td>40423</td>\n",
       "    </tr>\n",
       "    <tr>\n",
       "      <th>1</th>\n",
       "      <td>2398795</td>\n",
       "      <td>1</td>\n",
       "      <td>2</td>\n",
       "      <td>3</td>\n",
       "      <td>7</td>\n",
       "      <td>15.0</td>\n",
       "      <td>196</td>\n",
       "      <td>1</td>\n",
       "      <td>1</td>\n",
       "      <td>Soda</td>\n",
       "      <td>...</td>\n",
       "      <td>Non-frequent customer</td>\n",
       "      <td>Linda</td>\n",
       "      <td>Nguyen</td>\n",
       "      <td>Female</td>\n",
       "      <td>Alabama</td>\n",
       "      <td>31</td>\n",
       "      <td>2/17/2019</td>\n",
       "      <td>3</td>\n",
       "      <td>married</td>\n",
       "      <td>40423</td>\n",
       "    </tr>\n",
       "    <tr>\n",
       "      <th>2</th>\n",
       "      <td>473747</td>\n",
       "      <td>1</td>\n",
       "      <td>3</td>\n",
       "      <td>3</td>\n",
       "      <td>12</td>\n",
       "      <td>21.0</td>\n",
       "      <td>196</td>\n",
       "      <td>1</td>\n",
       "      <td>1</td>\n",
       "      <td>Soda</td>\n",
       "      <td>...</td>\n",
       "      <td>Non-frequent customer</td>\n",
       "      <td>Linda</td>\n",
       "      <td>Nguyen</td>\n",
       "      <td>Female</td>\n",
       "      <td>Alabama</td>\n",
       "      <td>31</td>\n",
       "      <td>2/17/2019</td>\n",
       "      <td>3</td>\n",
       "      <td>married</td>\n",
       "      <td>40423</td>\n",
       "    </tr>\n",
       "    <tr>\n",
       "      <th>3</th>\n",
       "      <td>2254736</td>\n",
       "      <td>1</td>\n",
       "      <td>4</td>\n",
       "      <td>4</td>\n",
       "      <td>7</td>\n",
       "      <td>29.0</td>\n",
       "      <td>196</td>\n",
       "      <td>1</td>\n",
       "      <td>1</td>\n",
       "      <td>Soda</td>\n",
       "      <td>...</td>\n",
       "      <td>Non-frequent customer</td>\n",
       "      <td>Linda</td>\n",
       "      <td>Nguyen</td>\n",
       "      <td>Female</td>\n",
       "      <td>Alabama</td>\n",
       "      <td>31</td>\n",
       "      <td>2/17/2019</td>\n",
       "      <td>3</td>\n",
       "      <td>married</td>\n",
       "      <td>40423</td>\n",
       "    </tr>\n",
       "    <tr>\n",
       "      <th>4</th>\n",
       "      <td>431534</td>\n",
       "      <td>1</td>\n",
       "      <td>5</td>\n",
       "      <td>4</td>\n",
       "      <td>15</td>\n",
       "      <td>28.0</td>\n",
       "      <td>196</td>\n",
       "      <td>1</td>\n",
       "      <td>1</td>\n",
       "      <td>Soda</td>\n",
       "      <td>...</td>\n",
       "      <td>Non-frequent customer</td>\n",
       "      <td>Linda</td>\n",
       "      <td>Nguyen</td>\n",
       "      <td>Female</td>\n",
       "      <td>Alabama</td>\n",
       "      <td>31</td>\n",
       "      <td>2/17/2019</td>\n",
       "      <td>3</td>\n",
       "      <td>married</td>\n",
       "      <td>40423</td>\n",
       "    </tr>\n",
       "  </tbody>\n",
       "</table>\n",
       "<p>5 rows × 32 columns</p>\n",
       "</div>"
      ],
      "text/plain": [
       "   order_id  customer_id  order_number  order_day_of_week  order_hour_of_day  \\\n",
       "0   2539329            1             1                  2                  8   \n",
       "1   2398795            1             2                  3                  7   \n",
       "2    473747            1             3                  3                 12   \n",
       "3   2254736            1             4                  4                  7   \n",
       "4    431534            1             5                  4                 15   \n",
       "\n",
       "   days_since_prior_order  product_id  add_to_cart_order  reordered  \\\n",
       "0                     NaN         196                  1          0   \n",
       "1                    15.0         196                  1          1   \n",
       "2                    21.0         196                  1          1   \n",
       "3                    29.0         196                  1          1   \n",
       "4                    28.0         196                  1          1   \n",
       "\n",
       "  product_name  ...   order_frequency_flag  first_name  last_name  gender  \\\n",
       "0         Soda  ...  Non-frequent customer       Linda     Nguyen  Female   \n",
       "1         Soda  ...  Non-frequent customer       Linda     Nguyen  Female   \n",
       "2         Soda  ...  Non-frequent customer       Linda     Nguyen  Female   \n",
       "3         Soda  ...  Non-frequent customer       Linda     Nguyen  Female   \n",
       "4         Soda  ...  Non-frequent customer       Linda     Nguyen  Female   \n",
       "\n",
       "     state age date_joined  number_of_dependants fam_status  income  \n",
       "0  Alabama  31   2/17/2019                     3    married   40423  \n",
       "1  Alabama  31   2/17/2019                     3    married   40423  \n",
       "2  Alabama  31   2/17/2019                     3    married   40423  \n",
       "3  Alabama  31   2/17/2019                     3    married   40423  \n",
       "4  Alabama  31   2/17/2019                     3    married   40423  \n",
       "\n",
       "[5 rows x 32 columns]"
      ]
     },
     "execution_count": 4,
     "metadata": {},
     "output_type": "execute_result"
    }
   ],
   "source": [
    "df.head()"
   ]
  },
  {
   "cell_type": "code",
   "execution_count": 5,
   "id": "aff38415",
   "metadata": {
    "scrolled": true
   },
   "outputs": [
    {
     "name": "stdout",
     "output_type": "stream",
     "text": [
      "<class 'pandas.core.frame.DataFrame'>\n",
      "Int64Index: 32404859 entries, 0 to 32404858\n",
      "Data columns (total 32 columns):\n",
      " #   Column                  Dtype   \n",
      "---  ------                  -----   \n",
      " 0   order_id                int64   \n",
      " 1   customer_id             int32   \n",
      " 2   order_number            int8    \n",
      " 3   order_day_of_week       int8    \n",
      " 4   order_hour_of_day       int8    \n",
      " 5   days_since_prior_order  float16 \n",
      " 6   product_id              int32   \n",
      " 7   add_to_cart_order       int8    \n",
      " 8   reordered               int8    \n",
      " 9   product_name            object  \n",
      " 10  aisle_id                int64   \n",
      " 11  department_id           int64   \n",
      " 12  prices                  float64 \n",
      " 13  _merge                  category\n",
      " 14  price_range             object  \n",
      " 15  busiest_day             object  \n",
      " 16  busiest_period_of_day   object  \n",
      " 17  max_order               int8    \n",
      " 18  loyalty_flag            object  \n",
      " 19  average_price           float64 \n",
      " 20  spending_flag           object  \n",
      " 21  median_order_days       float16 \n",
      " 22  order_frequency_flag    object  \n",
      " 23  first_name              object  \n",
      " 24  last_name               object  \n",
      " 25  gender                  object  \n",
      " 26  state                   object  \n",
      " 27  age                     int8    \n",
      " 28  date_joined             object  \n",
      " 29  number_of_dependants    int8    \n",
      " 30  fam_status              object  \n",
      " 31  income                  int32   \n",
      "dtypes: category(1), float16(2), float64(2), int32(3), int64(3), int8(8), object(13)\n",
      "memory usage: 5.3+ GB\n"
     ]
    }
   ],
   "source": [
    "df.info()"
   ]
  },
  {
   "cell_type": "markdown",
   "id": "1aef6b3b",
   "metadata": {},
   "source": [
    "### b. Checking the departments dataframe"
   ]
  },
  {
   "cell_type": "code",
   "execution_count": 6,
   "id": "d716e157",
   "metadata": {},
   "outputs": [
    {
     "data": {
      "text/plain": [
       "(21, 2)"
      ]
     },
     "execution_count": 6,
     "metadata": {},
     "output_type": "execute_result"
    }
   ],
   "source": [
    "df_departments.shape"
   ]
  },
  {
   "cell_type": "code",
   "execution_count": 7,
   "id": "37e3f521",
   "metadata": {},
   "outputs": [
    {
     "data": {
      "text/html": [
       "<div>\n",
       "<style scoped>\n",
       "    .dataframe tbody tr th:only-of-type {\n",
       "        vertical-align: middle;\n",
       "    }\n",
       "\n",
       "    .dataframe tbody tr th {\n",
       "        vertical-align: top;\n",
       "    }\n",
       "\n",
       "    .dataframe thead th {\n",
       "        text-align: right;\n",
       "    }\n",
       "</style>\n",
       "<table border=\"1\" class=\"dataframe\">\n",
       "  <thead>\n",
       "    <tr style=\"text-align: right;\">\n",
       "      <th></th>\n",
       "      <th>Unnamed: 0</th>\n",
       "      <th>department</th>\n",
       "    </tr>\n",
       "  </thead>\n",
       "  <tbody>\n",
       "    <tr>\n",
       "      <th>0</th>\n",
       "      <td>1</td>\n",
       "      <td>frozen</td>\n",
       "    </tr>\n",
       "    <tr>\n",
       "      <th>1</th>\n",
       "      <td>2</td>\n",
       "      <td>other</td>\n",
       "    </tr>\n",
       "    <tr>\n",
       "      <th>2</th>\n",
       "      <td>3</td>\n",
       "      <td>bakery</td>\n",
       "    </tr>\n",
       "    <tr>\n",
       "      <th>3</th>\n",
       "      <td>4</td>\n",
       "      <td>produce</td>\n",
       "    </tr>\n",
       "    <tr>\n",
       "      <th>4</th>\n",
       "      <td>5</td>\n",
       "      <td>alcohol</td>\n",
       "    </tr>\n",
       "  </tbody>\n",
       "</table>\n",
       "</div>"
      ],
      "text/plain": [
       "   Unnamed: 0 department\n",
       "0           1     frozen\n",
       "1           2      other\n",
       "2           3     bakery\n",
       "3           4    produce\n",
       "4           5    alcohol"
      ]
     },
     "execution_count": 7,
     "metadata": {},
     "output_type": "execute_result"
    }
   ],
   "source": [
    "df_departments.head()"
   ]
  },
  {
   "cell_type": "code",
   "execution_count": 8,
   "id": "13e468d1",
   "metadata": {},
   "outputs": [
    {
     "name": "stdout",
     "output_type": "stream",
     "text": [
      "<class 'pandas.core.frame.DataFrame'>\n",
      "RangeIndex: 21 entries, 0 to 20\n",
      "Data columns (total 2 columns):\n",
      " #   Column      Non-Null Count  Dtype \n",
      "---  ------      --------------  ----- \n",
      " 0   Unnamed: 0  21 non-null     int64 \n",
      " 1   department  21 non-null     object\n",
      "dtypes: int64(1), object(1)\n",
      "memory usage: 464.0+ bytes\n"
     ]
    }
   ],
   "source": [
    "df_departments.info()"
   ]
  },
  {
   "cell_type": "code",
   "execution_count": 9,
   "id": "f92daa12",
   "metadata": {},
   "outputs": [],
   "source": [
    "#Renaming the column\n",
    "df_departments.rename(columns={'Unnamed: 0':'department_id'}, inplace=True)"
   ]
  },
  {
   "cell_type": "code",
   "execution_count": 10,
   "id": "71955046",
   "metadata": {},
   "outputs": [],
   "source": [
    "#Data type correction for memory saving\n",
    "df['order_id']=df['order_id'].astype('int32')\n",
    "df_departments['department_id']=df_departments['department_id'].astype('int8')\n",
    "df['department_id']=df['department_id'].astype('int8')\n",
    "df['aisle_id']=df['aisle_id'].astype('int16')\n",
    "df['average_price']=df['average_price'].astype('float16')\n",
    "df['prices']=df['prices'].astype('float16')"
   ]
  },
  {
   "cell_type": "code",
   "execution_count": 11,
   "id": "b05ff39d",
   "metadata": {
    "scrolled": true
   },
   "outputs": [],
   "source": [
    "#Deleting columns for memory saving\n",
    "df=df.drop(columns=['_merge', 'aisle_id'])"
   ]
  },
  {
   "cell_type": "markdown",
   "id": "cf2b2961",
   "metadata": {},
   "source": [
    "### c. Merging the dataframes"
   ]
  },
  {
   "cell_type": "code",
   "execution_count": 12,
   "id": "4d7259a6",
   "metadata": {},
   "outputs": [
    {
     "name": "stdout",
     "output_type": "stream",
     "text": [
      "CPU times: total: 36.1 s\n",
      "Wall time: 41.7 s\n"
     ]
    }
   ],
   "source": [
    "%%time\n",
    "df_merged=df.merge(df_departments, on='department_id')"
   ]
  },
  {
   "cell_type": "code",
   "execution_count": 13,
   "id": "4af0a2f9",
   "metadata": {},
   "outputs": [
    {
     "data": {
      "text/plain": [
       "(32404859, 31)"
      ]
     },
     "execution_count": 13,
     "metadata": {},
     "output_type": "execute_result"
    }
   ],
   "source": [
    "df_merged.shape"
   ]
  },
  {
   "cell_type": "code",
   "execution_count": 14,
   "id": "dd1a8615",
   "metadata": {},
   "outputs": [],
   "source": [
    "#Deleting df to save memory\n",
    "del df, df_departments"
   ]
  },
  {
   "cell_type": "markdown",
   "id": "b89d75c5",
   "metadata": {},
   "source": [
    "# 03. PII issues"
   ]
  },
  {
   "cell_type": "code",
   "execution_count": 15,
   "id": "060932ea",
   "metadata": {},
   "outputs": [
    {
     "data": {
      "text/plain": [
       "Index(['order_id', 'customer_id', 'order_number', 'order_day_of_week',\n",
       "       'order_hour_of_day', 'days_since_prior_order', 'product_id',\n",
       "       'add_to_cart_order', 'reordered', 'product_name', 'department_id',\n",
       "       'prices', 'price_range', 'busiest_day', 'busiest_period_of_day',\n",
       "       'max_order', 'loyalty_flag', 'average_price', 'spending_flag',\n",
       "       'median_order_days', 'order_frequency_flag', 'first_name', 'last_name',\n",
       "       'gender', 'state', 'age', 'date_joined', 'number_of_dependants',\n",
       "       'fam_status', 'income', 'department'],\n",
       "      dtype='object')"
      ]
     },
     "execution_count": 15,
     "metadata": {},
     "output_type": "execute_result"
    }
   ],
   "source": [
    "#Observing the column names in order to detect any PII data\n",
    "df_merged.columns"
   ]
  },
  {
   "cell_type": "markdown",
   "id": "659aa09a",
   "metadata": {},
   "source": [
    "#### The columns first_name and  last_name clearly contain PII data and should be removed. We can also remove the  department_id  in order to reduce memory issues."
   ]
  },
  {
   "cell_type": "code",
   "execution_count": 16,
   "id": "8f9e0658",
   "metadata": {
    "scrolled": true
   },
   "outputs": [],
   "source": [
    "df_merged=df_merged.drop(columns=['first_name', 'last_name', 'department_id'])"
   ]
  },
  {
   "cell_type": "markdown",
   "id": "71559b01",
   "metadata": {},
   "source": [
    "# 04. Comparing regions"
   ]
  },
  {
   "cell_type": "code",
   "execution_count": 17,
   "id": "a795ce14",
   "metadata": {},
   "outputs": [],
   "source": [
    "#Creating a list of regions \n",
    "northeast=['Maine','New Hampshire','Vermont','Massachusetts','Rhode Island','Connecticut','New York','Pennsylvania','New Jersey']\n",
    "midwest=['Wisconsin','Michigan','Illinois','Indiana','Ohio','North Dakota','South Dakota','Nebraska','Kansas','Minnesota','Iowa','Missouri']\n",
    "south=['Delaware','Maryland','District of Columbia','Virginia','West Virginia','North Carolina','South Carolina','Georgia','Florida','Kentucky', 'Tennessee','Mississippi','Alabama','Oklahoma','Texas','Arkansas','Louisiana']\n",
    "west=['Idaho','Montana','Wyoming','Nevada','Utah','Colorado','Arizona','New Mexico','Alaska','Washington','Oregon','California','Hawaii']"
   ]
  },
  {
   "cell_type": "code",
   "execution_count": 18,
   "id": "e0c5fd56",
   "metadata": {},
   "outputs": [],
   "source": [
    "#Creating regional flags\n",
    "df_merged.loc[df_merged['state'].isin(northeast), 'region']='Northeast'\n",
    "df_merged.loc[df_merged['state'].isin(midwest), 'region']='Midwest'\n",
    "df_merged.loc[df_merged['state'].isin(south), 'region']='South'\n",
    "df_merged.loc[df_merged['state'].isin(west), 'region']='West'"
   ]
  },
  {
   "cell_type": "code",
   "execution_count": 19,
   "id": "8b40034d",
   "metadata": {},
   "outputs": [
    {
     "data": {
      "text/plain": [
       "South        10791885\n",
       "West          8292913\n",
       "Midwest       7597325\n",
       "Northeast     5722736\n",
       "Name: region, dtype: int64"
      ]
     },
     "execution_count": 19,
     "metadata": {},
     "output_type": "execute_result"
    }
   ],
   "source": [
    "#check\n",
    "df_merged['region'].value_counts(dropna=False)"
   ]
  },
  {
   "cell_type": "code",
   "execution_count": 20,
   "id": "7b313099",
   "metadata": {},
   "outputs": [
    {
     "data": {
      "text/html": [
       "<div>\n",
       "<style scoped>\n",
       "    .dataframe tbody tr th:only-of-type {\n",
       "        vertical-align: middle;\n",
       "    }\n",
       "\n",
       "    .dataframe tbody tr th {\n",
       "        vertical-align: top;\n",
       "    }\n",
       "\n",
       "    .dataframe thead th {\n",
       "        text-align: right;\n",
       "    }\n",
       "</style>\n",
       "<table border=\"1\" class=\"dataframe\">\n",
       "  <thead>\n",
       "    <tr style=\"text-align: right;\">\n",
       "      <th>spending_flag</th>\n",
       "      <th>High spender</th>\n",
       "      <th>Low spender</th>\n",
       "    </tr>\n",
       "    <tr>\n",
       "      <th>region</th>\n",
       "      <th></th>\n",
       "      <th></th>\n",
       "    </tr>\n",
       "  </thead>\n",
       "  <tbody>\n",
       "    <tr>\n",
       "      <th>Midwest</th>\n",
       "      <td>155975</td>\n",
       "      <td>7441350</td>\n",
       "    </tr>\n",
       "    <tr>\n",
       "      <th>Northeast</th>\n",
       "      <td>108225</td>\n",
       "      <td>5614511</td>\n",
       "    </tr>\n",
       "    <tr>\n",
       "      <th>South</th>\n",
       "      <td>209691</td>\n",
       "      <td>10582194</td>\n",
       "    </tr>\n",
       "    <tr>\n",
       "      <th>West</th>\n",
       "      <td>160354</td>\n",
       "      <td>8132559</td>\n",
       "    </tr>\n",
       "  </tbody>\n",
       "</table>\n",
       "</div>"
      ],
      "text/plain": [
       "spending_flag  High spender  Low spender\n",
       "region                                  \n",
       "Midwest              155975      7441350\n",
       "Northeast            108225      5614511\n",
       "South                209691     10582194\n",
       "West                 160354      8132559"
      ]
     },
     "execution_count": 20,
     "metadata": {},
     "output_type": "execute_result"
    }
   ],
   "source": [
    "#Crosstab of region with spending flag\n",
    "crosstab=pd.crosstab(df_merged['region'], df_merged['spending_flag'],  dropna=False)\n",
    "crosstab"
   ]
  },
  {
   "cell_type": "code",
   "execution_count": 21,
   "id": "c693df4b",
   "metadata": {},
   "outputs": [
    {
     "data": {
      "text/plain": [
       "region\n",
       "Midwest      12\n",
       "Northeast     9\n",
       "South        17\n",
       "West         13\n",
       "Name: state, dtype: int64"
      ]
     },
     "execution_count": 21,
     "metadata": {},
     "output_type": "execute_result"
    }
   ],
   "source": [
    "#Number of states per region\n",
    "df_merged.groupby('region')['state'].nunique()"
   ]
  },
  {
   "cell_type": "markdown",
   "id": "92a8a215",
   "metadata": {},
   "source": [
    "#### We can see that there are more states in the South and, correspondingly more customers( both high spenders and low spenders)."
   ]
  },
  {
   "cell_type": "code",
   "execution_count": 22,
   "id": "5582d596",
   "metadata": {},
   "outputs": [
    {
     "data": {
      "text/html": [
       "<div>\n",
       "<style scoped>\n",
       "    .dataframe tbody tr th:only-of-type {\n",
       "        vertical-align: middle;\n",
       "    }\n",
       "\n",
       "    .dataframe tbody tr th {\n",
       "        vertical-align: top;\n",
       "    }\n",
       "\n",
       "    .dataframe thead th {\n",
       "        text-align: right;\n",
       "    }\n",
       "</style>\n",
       "<table border=\"1\" class=\"dataframe\">\n",
       "  <thead>\n",
       "    <tr style=\"text-align: right;\">\n",
       "      <th></th>\n",
       "      <th>total_price</th>\n",
       "      <th>customer_count</th>\n",
       "      <th>average_price</th>\n",
       "    </tr>\n",
       "    <tr>\n",
       "      <th>region</th>\n",
       "      <th></th>\n",
       "      <th></th>\n",
       "      <th></th>\n",
       "    </tr>\n",
       "  </thead>\n",
       "  <tbody>\n",
       "    <tr>\n",
       "      <th>Midwest</th>\n",
       "      <td>inf</td>\n",
       "      <td>48519</td>\n",
       "      <td>12.718750</td>\n",
       "    </tr>\n",
       "    <tr>\n",
       "      <th>Northeast</th>\n",
       "      <td>inf</td>\n",
       "      <td>36388</td>\n",
       "      <td>11.554688</td>\n",
       "    </tr>\n",
       "    <tr>\n",
       "      <th>South</th>\n",
       "      <td>inf</td>\n",
       "      <td>68737</td>\n",
       "      <td>12.195312</td>\n",
       "    </tr>\n",
       "    <tr>\n",
       "      <th>West</th>\n",
       "      <td>inf</td>\n",
       "      <td>52565</td>\n",
       "      <td>11.320312</td>\n",
       "    </tr>\n",
       "  </tbody>\n",
       "</table>\n",
       "</div>"
      ],
      "text/plain": [
       "           total_price  customer_count  average_price\n",
       "region                                               \n",
       "Midwest            inf           48519      12.718750\n",
       "Northeast          inf           36388      11.554688\n",
       "South              inf           68737      12.195312\n",
       "West               inf           52565      11.320312"
      ]
     },
     "execution_count": 22,
     "metadata": {},
     "output_type": "execute_result"
    }
   ],
   "source": [
    "#Unique customer numbers\n",
    "unique_customers=df_merged.groupby('region').agg({'prices':['sum'],'customer_id': 'nunique', 'average_price':'mean'})\n",
    "unique_customers.columns=['total_price', 'customer_count', 'average_price']\n",
    "unique_customers"
   ]
  },
  {
   "cell_type": "code",
   "execution_count": 23,
   "id": "cbf52369",
   "metadata": {},
   "outputs": [
    {
     "data": {
      "text/html": [
       "<div>\n",
       "<style scoped>\n",
       "    .dataframe tbody tr th:only-of-type {\n",
       "        vertical-align: middle;\n",
       "    }\n",
       "\n",
       "    .dataframe tbody tr th {\n",
       "        vertical-align: top;\n",
       "    }\n",
       "\n",
       "    .dataframe thead th {\n",
       "        text-align: right;\n",
       "    }\n",
       "</style>\n",
       "<table border=\"1\" class=\"dataframe\">\n",
       "  <thead>\n",
       "    <tr style=\"text-align: right;\">\n",
       "      <th></th>\n",
       "      <th>total_price</th>\n",
       "      <th>customer_count</th>\n",
       "      <th>average_price</th>\n",
       "    </tr>\n",
       "    <tr>\n",
       "      <th>region</th>\n",
       "      <th></th>\n",
       "      <th></th>\n",
       "      <th></th>\n",
       "    </tr>\n",
       "  </thead>\n",
       "  <tbody>\n",
       "    <tr>\n",
       "      <th>South</th>\n",
       "      <td>inf</td>\n",
       "      <td>68737</td>\n",
       "      <td>12.195312</td>\n",
       "    </tr>\n",
       "    <tr>\n",
       "      <th>West</th>\n",
       "      <td>inf</td>\n",
       "      <td>52565</td>\n",
       "      <td>11.320312</td>\n",
       "    </tr>\n",
       "    <tr>\n",
       "      <th>Midwest</th>\n",
       "      <td>inf</td>\n",
       "      <td>48519</td>\n",
       "      <td>12.718750</td>\n",
       "    </tr>\n",
       "    <tr>\n",
       "      <th>Northeast</th>\n",
       "      <td>inf</td>\n",
       "      <td>36388</td>\n",
       "      <td>11.554688</td>\n",
       "    </tr>\n",
       "  </tbody>\n",
       "</table>\n",
       "</div>"
      ],
      "text/plain": [
       "           total_price  customer_count  average_price\n",
       "region                                               \n",
       "South              inf           68737      12.195312\n",
       "West               inf           52565      11.320312\n",
       "Midwest            inf           48519      12.718750\n",
       "Northeast          inf           36388      11.554688"
      ]
     },
     "execution_count": 23,
     "metadata": {},
     "output_type": "execute_result"
    }
   ],
   "source": [
    "unique_customers.sort_values(by='customer_count', ascending=False)"
   ]
  },
  {
   "cell_type": "markdown",
   "id": "747072c2",
   "metadata": {},
   "source": [
    "#### Now that we have selected only unique customer ids, we can see that the states in south have indeed more customers and correspondingly, more revenue than any other region. However, on individual basis, customers in Midwest spend  the most on average."
   ]
  },
  {
   "cell_type": "markdown",
   "id": "638632e3",
   "metadata": {},
   "source": [
    "# 05. Creating exclusion flag for low-activity customers"
   ]
  },
  {
   "cell_type": "code",
   "execution_count": 24,
   "id": "48279a1f",
   "metadata": {},
   "outputs": [],
   "source": [
    "#Creating exclusion flag for low-activity customers: less than 5(0) and equal to or more than 5 (1)\n",
    "df_merged.loc[df_merged['max_order']>=5, 'activity']='1'\n",
    "df_merged.loc[df_merged['max_order']<5, 'activity']='0'"
   ]
  },
  {
   "cell_type": "code",
   "execution_count": 25,
   "id": "94974897",
   "metadata": {},
   "outputs": [
    {
     "data": {
      "text/plain": [
       "1    30964564\n",
       "0     1440295\n",
       "Name: activity, dtype: int64"
      ]
     },
     "execution_count": 25,
     "metadata": {},
     "output_type": "execute_result"
    }
   ],
   "source": [
    "df_merged['activity'].value_counts(dropna=False)"
   ]
  },
  {
   "cell_type": "code",
   "execution_count": 26,
   "id": "466dacce",
   "metadata": {
    "scrolled": true
   },
   "outputs": [],
   "source": [
    "#Reducing memory issues\n",
    "df_merged['activity']=df_merged['activity'].astype('int8')"
   ]
  },
  {
   "cell_type": "code",
   "execution_count": 27,
   "id": "8b28283c",
   "metadata": {},
   "outputs": [],
   "source": [
    "#Creating a dataset of customers with orders lower than 5\n",
    "inactive_customers=df_merged[df_merged['activity']==0]"
   ]
  },
  {
   "cell_type": "code",
   "execution_count": 28,
   "id": "c197947e",
   "metadata": {},
   "outputs": [],
   "source": [
    "#Exporting the dataset of inactive customers\n",
    "inactive_customers.to_pickle(os.path.join(path, '02 Data', 'Prepared Data', 'inactive_customers.pkl'))"
   ]
  },
  {
   "cell_type": "code",
   "execution_count": 29,
   "id": "0b930472",
   "metadata": {},
   "outputs": [],
   "source": [
    "#Deleting inactive_customers to reduce memory usage\n",
    "del inactive_customers"
   ]
  },
  {
   "cell_type": "code",
   "execution_count": 34,
   "id": "2541b8f5",
   "metadata": {},
   "outputs": [],
   "source": [
    "#Creating a dataset of customers with orders equal to or higher than 5#\n",
    "df_active=df_merged[df_merged['activity']==1]"
   ]
  },
  {
   "cell_type": "code",
   "execution_count": 35,
   "id": "49932242",
   "metadata": {
    "scrolled": true
   },
   "outputs": [],
   "source": [
    "#Deleting df_merged to reduce memory\n",
    "del df_merged"
   ]
  },
  {
   "cell_type": "markdown",
   "id": "c86a3398",
   "metadata": {},
   "source": [
    "### Proceeding with only active customers"
   ]
  },
  {
   "cell_type": "markdown",
   "id": "2704555d",
   "metadata": {},
   "source": [
    "# 06. Creating customer profiles"
   ]
  },
  {
   "cell_type": "markdown",
   "id": "275df09e",
   "metadata": {},
   "source": [
    "## a. Age profile"
   ]
  },
  {
   "cell_type": "code",
   "execution_count": 36,
   "id": "19bde8f5",
   "metadata": {},
   "outputs": [
    {
     "data": {
      "text/plain": [
       "older     12508298\n",
       "middle     9717461\n",
       "young      8738805\n",
       "Name: age_group, dtype: int64"
      ]
     },
     "execution_count": 36,
     "metadata": {},
     "output_type": "execute_result"
    }
   ],
   "source": [
    "#Creating age flags for young adult:18-35 years, middle-aged adult: 36-55 years, older adults:56+ years\n",
    "df_active.loc[df_active['age']<=35, 'age_group']='young'\n",
    "df_active.loc[(df_active['age']<=55)&(df_active['age']>35), 'age_group']='middle'\n",
    "df_active.loc[df_active['age']>55, 'age_group']='older'\n",
    "df_active['age_group'].value_counts(dropna=False)"
   ]
  },
  {
   "cell_type": "markdown",
   "id": "f47e900b",
   "metadata": {},
   "source": [
    "## b. Income profile"
   ]
  },
  {
   "cell_type": "code",
   "execution_count": 37,
   "id": "aa459c34",
   "metadata": {},
   "outputs": [
    {
     "data": {
      "text/plain": [
       "middle income    24490126\n",
       "low income        3632792\n",
       "high income       2841646\n",
       "Name: income_group, dtype: int64"
      ]
     },
     "execution_count": 37,
     "metadata": {},
     "output_type": "execute_result"
    }
   ],
   "source": [
    "#Creating flags for income: <55,000- low income, 52,000<n<156,000-middle income, <156,000- high income\n",
    "df_active.loc[df_active['income']<52000, 'income_group']='low income'\n",
    "df_active.loc[(df_active['income']>=52000)&(df_active['income']<156000), 'income_group']='middle income'\n",
    "df_active.loc[df_active['income']>156000, 'income_group']='high income'\n",
    "df_active['income_group'].value_counts(dropna=False)        "
   ]
  },
  {
   "cell_type": "markdown",
   "id": "991085b8",
   "metadata": {},
   "source": [
    "## c. Number of Dependants Profile"
   ]
  },
  {
   "cell_type": "code",
   "execution_count": 138,
   "id": "83fc2cc0",
   "metadata": {},
   "outputs": [
    {
     "data": {
      "text/plain": [
       "has dependents    23224883\n",
       "no dependents      7739681\n",
       "Name: dependant_group, dtype: int64"
      ]
     },
     "execution_count": 138,
     "metadata": {},
     "output_type": "execute_result"
    }
   ],
   "source": [
    "#Creating flags for has dependents/no dependents: number of dependants>0- has dependents, otherwise - no dependents\n",
    "df_active.loc[df_active['number_of_dependants']>0, 'dependant_group']='has dependents'\n",
    "df_active.loc[df_active['number_of_dependants']==0,'dependant_group']='no dependents'\n",
    "df_active['dependant_group'].value_counts(dropna=False)"
   ]
  },
  {
   "cell_type": "markdown",
   "id": "d5f97c02",
   "metadata": {},
   "source": [
    "# d. Baby stuff Profile"
   ]
  },
  {
   "cell_type": "code",
   "execution_count": 39,
   "id": "f2ac860a",
   "metadata": {},
   "outputs": [
    {
     "data": {
      "text/plain": [
       "produce            9079273\n",
       "dairy eggs         5177182\n",
       "snacks             2766406\n",
       "beverages          2571901\n",
       "frozen             2121731\n",
       "pantry             1782705\n",
       "bakery             1120828\n",
       "canned goods       1012074\n",
       "deli               1003834\n",
       "dry goods pasta     822136\n",
       "household           699857\n",
       "meat seafood        674781\n",
       "breakfast           670850\n",
       "personal care       424306\n",
       "babies              410392\n",
       "international       255991\n",
       "alcohol             144627\n",
       "pets                 93060\n",
       "missing              64768\n",
       "other                34411\n",
       "bulk                 33451\n",
       "Name: department, dtype: int64"
      ]
     },
     "execution_count": 39,
     "metadata": {},
     "output_type": "execute_result"
    }
   ],
   "source": [
    "df_active['department'].value_counts()"
   ]
  },
  {
   "cell_type": "code",
   "execution_count": 40,
   "id": "40c01702",
   "metadata": {},
   "outputs": [
    {
     "data": {
      "text/plain": [
       "0    21154311\n",
       "1     9810253\n",
       "Name: baby_status, dtype: int64"
      ]
     },
     "execution_count": 40,
     "metadata": {},
     "output_type": "execute_result"
    }
   ],
   "source": [
    "#Creating flags for bought baby stuff(1)/didn't buy baby stuff (0). Binary values were used in order to save memory. \n",
    "df_active['baby_status'] = [1 if x == 'babies' else 0 for x in df_active['department']]\n",
    "df_active['baby_status']=df_active.groupby(['customer_id'])['baby_status'].transform(np.max)\n",
    "df_active['baby_status'].value_counts(dropna=False)"
   ]
  },
  {
   "cell_type": "code",
   "execution_count": 41,
   "id": "c9044b32",
   "metadata": {},
   "outputs": [],
   "source": [
    "#Reducing memory issues\n",
    "df_active['baby_status']=df_active['baby_status'].astype('int8')"
   ]
  },
  {
   "cell_type": "markdown",
   "id": "25ee325c",
   "metadata": {},
   "source": [
    "## e. Pet profile"
   ]
  },
  {
   "cell_type": "code",
   "execution_count": 42,
   "id": "261237ca",
   "metadata": {},
   "outputs": [
    {
     "data": {
      "text/plain": [
       "0    27513213\n",
       "1     3451351\n",
       "Name: pet_status, dtype: int64"
      ]
     },
     "execution_count": 42,
     "metadata": {},
     "output_type": "execute_result"
    }
   ],
   "source": [
    "#Creating flag for: has a pet(1)/doesn't have pets(0).\n",
    "df_active['pet_status']=[1 if x=='pets' else 0 for x in df_active['department']]\n",
    "df_active['pet_status']=df_active.groupby(['customer_id'])['pet_status'].transform(np.max)\n",
    "df_active['pet_status'].value_counts(dropna=False)"
   ]
  },
  {
   "cell_type": "code",
   "execution_count": 43,
   "id": "2122d4f2",
   "metadata": {},
   "outputs": [],
   "source": [
    "#Reducing memory issues\n",
    "df_active['pet_status']=df_active['pet_status'].astype('int8')"
   ]
  },
  {
   "cell_type": "markdown",
   "id": "2cb26f91",
   "metadata": {},
   "source": [
    "## f. Vegetarian profile"
   ]
  },
  {
   "cell_type": "code",
   "execution_count": 193,
   "id": "6ae58f4f",
   "metadata": {},
   "outputs": [
    {
     "data": {
      "text/plain": [
       "1    30654568\n",
       "0      309996\n",
       "Name: vegan_status, dtype: int64"
      ]
     },
     "execution_count": 193,
     "metadata": {},
     "output_type": "execute_result"
    }
   ],
   "source": [
    "#Creating flag for: vegetarian(0)/not vegetarian(1).\n",
    "df_active['vegan_status']=[1 if (x=='meat seafood')or(x=='dairy eggs') else 0 for x in df_active['department']]\n",
    "df_active['vegan_status']=df_active.groupby(['customer_id'])['vegan_status'].transform(np.max)\n",
    "df_active['vegan_status'].value_counts(dropna=False)"
   ]
  },
  {
   "cell_type": "markdown",
   "id": "1fa3307d",
   "metadata": {},
   "source": [
    "#### Disclaimer: We canot be 100% sure that the customers who don't order meat or dairy products are vegetarian. They might be buying these products elsewhere."
   ]
  },
  {
   "cell_type": "markdown",
   "id": "72d6586a",
   "metadata": {},
   "source": [
    "## g. Alcohol drinker profile"
   ]
  },
  {
   "cell_type": "code",
   "execution_count": 46,
   "id": "ffb31c83",
   "metadata": {},
   "outputs": [
    {
     "data": {
      "text/plain": [
       "0    28634074\n",
       "1     2330490\n",
       "Name: alcohol_status, dtype: int64"
      ]
     },
     "execution_count": 46,
     "metadata": {},
     "output_type": "execute_result"
    }
   ],
   "source": [
    "#Creating a flag for: alcohol drinker(1)/not drinker(0).\n",
    "df_active['alcohol_status']=[1 if x=='alcohol' else 0 for x in df_active['department']]\n",
    "df_active['alcohol_status']=df_active.groupby(['customer_id'])['alcohol_status'].transform(np.max)\n",
    "df_active['alcohol_status'].value_counts(dropna=False)"
   ]
  },
  {
   "cell_type": "code",
   "execution_count": 47,
   "id": "e0742192",
   "metadata": {},
   "outputs": [],
   "source": [
    "#Reducing memory usage\n",
    "df_active['alcohol_status']=df_active['alcohol_status'].astype('int8')"
   ]
  },
  {
   "cell_type": "code",
   "execution_count": 49,
   "id": "dd6665ed",
   "metadata": {},
   "outputs": [],
   "source": [
    "#Exporting the dataframe\n",
    "df_active.to_pickle(os.path.join(path, '02 Data', 'Prepared Data', 'active_customers.pkl'))"
   ]
  },
  {
   "cell_type": "markdown",
   "id": "d7499a04",
   "metadata": {},
   "source": [
    "# 07. Aggregating the max, mean, and min variables on a customer-profile level for usage frequency and expenditure."
   ]
  },
  {
   "cell_type": "markdown",
   "id": "9a4bd887",
   "metadata": {},
   "source": [
    "## a. Age profile aggregation"
   ]
  },
  {
   "cell_type": "code",
   "execution_count": 75,
   "id": "ebf34178",
   "metadata": {},
   "outputs": [
    {
     "data": {
      "text/html": [
       "<style type=\"text/css\">\n",
       "#T_80160_row0_col0, #T_80160_row0_col1, #T_80160_row0_col2, #T_80160_row0_col3, #T_80160_row0_col4, #T_80160_row0_col5, #T_80160_row1_col0, #T_80160_row1_col1, #T_80160_row1_col2, #T_80160_row1_col3, #T_80160_row1_col4, #T_80160_row1_col5, #T_80160_row2_col0, #T_80160_row2_col1, #T_80160_row2_col2, #T_80160_row2_col3, #T_80160_row2_col4, #T_80160_row2_col5 {\n",
       "  border: 0.5px solid black;\n",
       "  color: black;\n",
       "  header: center;\n",
       "}\n",
       "</style>\n",
       "<table id=\"T_80160\">\n",
       "  <thead>\n",
       "    <tr>\n",
       "      <th class=\"blank level0\" >&nbsp;</th>\n",
       "      <th id=\"T_80160_level0_col0\" class=\"col_heading level0 col0\" colspan=\"3\">median_order_days</th>\n",
       "      <th id=\"T_80160_level0_col3\" class=\"col_heading level0 col3\" colspan=\"3\">prices</th>\n",
       "    </tr>\n",
       "    <tr>\n",
       "      <th class=\"blank level1\" >&nbsp;</th>\n",
       "      <th id=\"T_80160_level1_col0\" class=\"col_heading level1 col0\" >mean</th>\n",
       "      <th id=\"T_80160_level1_col1\" class=\"col_heading level1 col1\" >min</th>\n",
       "      <th id=\"T_80160_level1_col2\" class=\"col_heading level1 col2\" >max</th>\n",
       "      <th id=\"T_80160_level1_col3\" class=\"col_heading level1 col3\" >mean</th>\n",
       "      <th id=\"T_80160_level1_col4\" class=\"col_heading level1 col4\" >min</th>\n",
       "      <th id=\"T_80160_level1_col5\" class=\"col_heading level1 col5\" >max</th>\n",
       "    </tr>\n",
       "    <tr>\n",
       "      <th class=\"index_name level0\" >age_group</th>\n",
       "      <th class=\"blank col0\" >&nbsp;</th>\n",
       "      <th class=\"blank col1\" >&nbsp;</th>\n",
       "      <th class=\"blank col2\" >&nbsp;</th>\n",
       "      <th class=\"blank col3\" >&nbsp;</th>\n",
       "      <th class=\"blank col4\" >&nbsp;</th>\n",
       "      <th class=\"blank col5\" >&nbsp;</th>\n",
       "    </tr>\n",
       "  </thead>\n",
       "  <tbody>\n",
       "    <tr>\n",
       "      <th id=\"T_80160_level0_row0\" class=\"row_heading level0 row0\" >middle</th>\n",
       "      <td id=\"T_80160_row0_col0\" class=\"data row0 col0\" >9.953125</td>\n",
       "      <td id=\"T_80160_row0_col1\" class=\"data row0 col1\" >0.000000</td>\n",
       "      <td id=\"T_80160_row0_col2\" class=\"data row0 col2\" >30.000000</td>\n",
       "      <td id=\"T_80160_row0_col3\" class=\"data row0 col3\" >7.789062</td>\n",
       "      <td id=\"T_80160_row0_col4\" class=\"data row0 col4\" >1.000000</td>\n",
       "      <td id=\"T_80160_row0_col5\" class=\"data row0 col5\" >25.000000</td>\n",
       "    </tr>\n",
       "    <tr>\n",
       "      <th id=\"T_80160_level0_row1\" class=\"row_heading level0 row1\" >older</th>\n",
       "      <td id=\"T_80160_row1_col0\" class=\"data row1 col0\" >9.953125</td>\n",
       "      <td id=\"T_80160_row1_col1\" class=\"data row1 col1\" >0.000000</td>\n",
       "      <td id=\"T_80160_row1_col2\" class=\"data row1 col2\" >30.000000</td>\n",
       "      <td id=\"T_80160_row1_col3\" class=\"data row1 col3\" >7.796875</td>\n",
       "      <td id=\"T_80160_row1_col4\" class=\"data row1 col4\" >1.000000</td>\n",
       "      <td id=\"T_80160_row1_col5\" class=\"data row1 col5\" >25.000000</td>\n",
       "    </tr>\n",
       "    <tr>\n",
       "      <th id=\"T_80160_level0_row2\" class=\"row_heading level0 row2\" >young</th>\n",
       "      <td id=\"T_80160_row2_col0\" class=\"data row2 col0\" >9.968750</td>\n",
       "      <td id=\"T_80160_row2_col1\" class=\"data row2 col1\" >0.000000</td>\n",
       "      <td id=\"T_80160_row2_col2\" class=\"data row2 col2\" >30.000000</td>\n",
       "      <td id=\"T_80160_row2_col3\" class=\"data row2 col3\" >7.785156</td>\n",
       "      <td id=\"T_80160_row2_col4\" class=\"data row2 col4\" >1.000000</td>\n",
       "      <td id=\"T_80160_row2_col5\" class=\"data row2 col5\" >25.000000</td>\n",
       "    </tr>\n",
       "  </tbody>\n",
       "</table>\n"
      ],
      "text/plain": [
       "<pandas.io.formats.style.Styler at 0x25586002fd0>"
      ]
     },
     "execution_count": 75,
     "metadata": {},
     "output_type": "execute_result"
    }
   ],
   "source": [
    "#Aggregating the max, mean, and min variables on a age-profile level for usage frequency and expenditure.\n",
    "df_active.groupby(['age_group']).agg({'median_order_days':['mean', 'min', 'max'], 'prices':['mean', 'min', 'max']}).style.set_properties(**{'border':'0.5px solid black','color':'black','header':'center'})"
   ]
  },
  {
   "cell_type": "markdown",
   "id": "9f451e77",
   "metadata": {},
   "source": [
    "## b. Income profile aggregation"
   ]
  },
  {
   "cell_type": "code",
   "execution_count": 76,
   "id": "850d5b83",
   "metadata": {},
   "outputs": [
    {
     "data": {
      "text/html": [
       "<style type=\"text/css\">\n",
       "#T_3e208_row0_col0, #T_3e208_row0_col1, #T_3e208_row0_col2, #T_3e208_row0_col3, #T_3e208_row0_col4, #T_3e208_row0_col5, #T_3e208_row1_col0, #T_3e208_row1_col1, #T_3e208_row1_col2, #T_3e208_row1_col3, #T_3e208_row1_col4, #T_3e208_row1_col5, #T_3e208_row2_col0, #T_3e208_row2_col1, #T_3e208_row2_col2, #T_3e208_row2_col3, #T_3e208_row2_col4, #T_3e208_row2_col5 {\n",
       "  border: 0.5px solid black;\n",
       "  color: black;\n",
       "  header: center;\n",
       "}\n",
       "</style>\n",
       "<table id=\"T_3e208\">\n",
       "  <thead>\n",
       "    <tr>\n",
       "      <th class=\"blank level0\" >&nbsp;</th>\n",
       "      <th id=\"T_3e208_level0_col0\" class=\"col_heading level0 col0\" colspan=\"3\">median_order_days</th>\n",
       "      <th id=\"T_3e208_level0_col3\" class=\"col_heading level0 col3\" colspan=\"3\">prices</th>\n",
       "    </tr>\n",
       "    <tr>\n",
       "      <th class=\"blank level1\" >&nbsp;</th>\n",
       "      <th id=\"T_3e208_level1_col0\" class=\"col_heading level1 col0\" >mean</th>\n",
       "      <th id=\"T_3e208_level1_col1\" class=\"col_heading level1 col1\" >min</th>\n",
       "      <th id=\"T_3e208_level1_col2\" class=\"col_heading level1 col2\" >max</th>\n",
       "      <th id=\"T_3e208_level1_col3\" class=\"col_heading level1 col3\" >mean</th>\n",
       "      <th id=\"T_3e208_level1_col4\" class=\"col_heading level1 col4\" >min</th>\n",
       "      <th id=\"T_3e208_level1_col5\" class=\"col_heading level1 col5\" >max</th>\n",
       "    </tr>\n",
       "    <tr>\n",
       "      <th class=\"index_name level0\" >income_group</th>\n",
       "      <th class=\"blank col0\" >&nbsp;</th>\n",
       "      <th class=\"blank col1\" >&nbsp;</th>\n",
       "      <th class=\"blank col2\" >&nbsp;</th>\n",
       "      <th class=\"blank col3\" >&nbsp;</th>\n",
       "      <th class=\"blank col4\" >&nbsp;</th>\n",
       "      <th class=\"blank col5\" >&nbsp;</th>\n",
       "    </tr>\n",
       "  </thead>\n",
       "  <tbody>\n",
       "    <tr>\n",
       "      <th id=\"T_3e208_level0_row0\" class=\"row_heading level0 row0\" >high income</th>\n",
       "      <td id=\"T_3e208_row0_col0\" class=\"data row0 col0\" >9.773438</td>\n",
       "      <td id=\"T_3e208_row0_col1\" class=\"data row0 col1\" >0.000000</td>\n",
       "      <td id=\"T_3e208_row0_col2\" class=\"data row0 col2\" >30.000000</td>\n",
       "      <td id=\"T_3e208_row0_col3\" class=\"data row0 col3\" >7.937500</td>\n",
       "      <td id=\"T_3e208_row0_col4\" class=\"data row0 col4\" >1.000000</td>\n",
       "      <td id=\"T_3e208_row0_col5\" class=\"data row0 col5\" >25.000000</td>\n",
       "    </tr>\n",
       "    <tr>\n",
       "      <th id=\"T_3e208_level0_row1\" class=\"row_heading level0 row1\" >low income</th>\n",
       "      <td id=\"T_3e208_row1_col0\" class=\"data row1 col0\" >10.492188</td>\n",
       "      <td id=\"T_3e208_row1_col1\" class=\"data row1 col1\" >0.000000</td>\n",
       "      <td id=\"T_3e208_row1_col2\" class=\"data row1 col2\" >30.000000</td>\n",
       "      <td id=\"T_3e208_row1_col3\" class=\"data row1 col3\" >6.750000</td>\n",
       "      <td id=\"T_3e208_row1_col4\" class=\"data row1 col4\" >1.000000</td>\n",
       "      <td id=\"T_3e208_row1_col5\" class=\"data row1 col5\" >25.000000</td>\n",
       "    </tr>\n",
       "    <tr>\n",
       "      <th id=\"T_3e208_level0_row2\" class=\"row_heading level0 row2\" >middle income</th>\n",
       "      <td id=\"T_3e208_row2_col0\" class=\"data row2 col0\" >9.898438</td>\n",
       "      <td id=\"T_3e208_row2_col1\" class=\"data row2 col1\" >0.000000</td>\n",
       "      <td id=\"T_3e208_row2_col2\" class=\"data row2 col2\" >30.000000</td>\n",
       "      <td id=\"T_3e208_row2_col3\" class=\"data row2 col3\" >7.925781</td>\n",
       "      <td id=\"T_3e208_row2_col4\" class=\"data row2 col4\" >1.000000</td>\n",
       "      <td id=\"T_3e208_row2_col5\" class=\"data row2 col5\" >25.000000</td>\n",
       "    </tr>\n",
       "  </tbody>\n",
       "</table>\n"
      ],
      "text/plain": [
       "<pandas.io.formats.style.Styler at 0x25585f4c370>"
      ]
     },
     "execution_count": 76,
     "metadata": {},
     "output_type": "execute_result"
    }
   ],
   "source": [
    "#Aggregating the max, mean, and min variables on income-profile level for usage frequency and expenditure.\n",
    "df_active.groupby(['income_group']).agg({'median_order_days':['mean', 'min', 'max'], 'prices':['mean', 'min', 'max']}).style.set_properties(**{'border':'0.5px solid black','color':'black','header':'center'})"
   ]
  },
  {
   "cell_type": "markdown",
   "id": "bfac23c8",
   "metadata": {},
   "source": [
    "## c. Number of dependants profile aggregation"
   ]
  },
  {
   "cell_type": "code",
   "execution_count": 139,
   "id": "def61670",
   "metadata": {},
   "outputs": [
    {
     "data": {
      "text/html": [
       "<style type=\"text/css\">\n",
       "#T_d572c_row0_col0, #T_d572c_row0_col1, #T_d572c_row0_col2, #T_d572c_row0_col3, #T_d572c_row0_col4, #T_d572c_row0_col5, #T_d572c_row1_col0, #T_d572c_row1_col1, #T_d572c_row1_col2, #T_d572c_row1_col3, #T_d572c_row1_col4, #T_d572c_row1_col5 {\n",
       "  border: 0.5px solid black;\n",
       "  color: black;\n",
       "  header: center;\n",
       "}\n",
       "</style>\n",
       "<table id=\"T_d572c\">\n",
       "  <thead>\n",
       "    <tr>\n",
       "      <th class=\"blank level0\" >&nbsp;</th>\n",
       "      <th id=\"T_d572c_level0_col0\" class=\"col_heading level0 col0\" colspan=\"3\">median_order_days</th>\n",
       "      <th id=\"T_d572c_level0_col3\" class=\"col_heading level0 col3\" colspan=\"3\">prices</th>\n",
       "    </tr>\n",
       "    <tr>\n",
       "      <th class=\"blank level1\" >&nbsp;</th>\n",
       "      <th id=\"T_d572c_level1_col0\" class=\"col_heading level1 col0\" >mean</th>\n",
       "      <th id=\"T_d572c_level1_col1\" class=\"col_heading level1 col1\" >min</th>\n",
       "      <th id=\"T_d572c_level1_col2\" class=\"col_heading level1 col2\" >max</th>\n",
       "      <th id=\"T_d572c_level1_col3\" class=\"col_heading level1 col3\" >mean</th>\n",
       "      <th id=\"T_d572c_level1_col4\" class=\"col_heading level1 col4\" >min</th>\n",
       "      <th id=\"T_d572c_level1_col5\" class=\"col_heading level1 col5\" >max</th>\n",
       "    </tr>\n",
       "    <tr>\n",
       "      <th class=\"index_name level0\" >dependant_group</th>\n",
       "      <th class=\"blank col0\" >&nbsp;</th>\n",
       "      <th class=\"blank col1\" >&nbsp;</th>\n",
       "      <th class=\"blank col2\" >&nbsp;</th>\n",
       "      <th class=\"blank col3\" >&nbsp;</th>\n",
       "      <th class=\"blank col4\" >&nbsp;</th>\n",
       "      <th class=\"blank col5\" >&nbsp;</th>\n",
       "    </tr>\n",
       "  </thead>\n",
       "  <tbody>\n",
       "    <tr>\n",
       "      <th id=\"T_d572c_level0_row0\" class=\"row_heading level0 row0\" >has dependents</th>\n",
       "      <td id=\"T_d572c_row0_col0\" class=\"data row0 col0\" >9.960938</td>\n",
       "      <td id=\"T_d572c_row0_col1\" class=\"data row0 col1\" >0.000000</td>\n",
       "      <td id=\"T_d572c_row0_col2\" class=\"data row0 col2\" >30.000000</td>\n",
       "      <td id=\"T_d572c_row0_col3\" class=\"data row0 col3\" >7.789062</td>\n",
       "      <td id=\"T_d572c_row0_col4\" class=\"data row0 col4\" >1.000000</td>\n",
       "      <td id=\"T_d572c_row0_col5\" class=\"data row0 col5\" >25.000000</td>\n",
       "    </tr>\n",
       "    <tr>\n",
       "      <th id=\"T_d572c_level0_row1\" class=\"row_heading level0 row1\" >no dependents</th>\n",
       "      <td id=\"T_d572c_row1_col0\" class=\"data row1 col0\" >9.937500</td>\n",
       "      <td id=\"T_d572c_row1_col1\" class=\"data row1 col1\" >0.000000</td>\n",
       "      <td id=\"T_d572c_row1_col2\" class=\"data row1 col2\" >30.000000</td>\n",
       "      <td id=\"T_d572c_row1_col3\" class=\"data row1 col3\" >7.789062</td>\n",
       "      <td id=\"T_d572c_row1_col4\" class=\"data row1 col4\" >1.000000</td>\n",
       "      <td id=\"T_d572c_row1_col5\" class=\"data row1 col5\" >25.000000</td>\n",
       "    </tr>\n",
       "  </tbody>\n",
       "</table>\n"
      ],
      "text/plain": [
       "<pandas.io.formats.style.Styler at 0x2558620b580>"
      ]
     },
     "execution_count": 139,
     "metadata": {},
     "output_type": "execute_result"
    }
   ],
   "source": [
    "#Aggregating the max, mean, and min variables on income-profile level for usage frequency and expenditure.\n",
    "df_active.groupby(['dependant_group']).agg({'median_order_days':['mean', 'min', 'max'], 'prices':['mean', 'min', 'max']}).style.set_properties(**{'border':'0.5px solid black','color':'black','header':'center'})"
   ]
  },
  {
   "cell_type": "markdown",
   "id": "aefb73f2",
   "metadata": {},
   "source": [
    "## d. Baby stuff Profile aggregation"
   ]
  },
  {
   "cell_type": "code",
   "execution_count": 170,
   "id": "86429c9c",
   "metadata": {},
   "outputs": [
    {
     "data": {
      "text/html": [
       "<div>\n",
       "<style scoped>\n",
       "    .dataframe tbody tr th:only-of-type {\n",
       "        vertical-align: middle;\n",
       "    }\n",
       "\n",
       "    .dataframe tbody tr th {\n",
       "        vertical-align: top;\n",
       "    }\n",
       "\n",
       "    .dataframe thead tr th {\n",
       "        text-align: left;\n",
       "    }\n",
       "\n",
       "    .dataframe thead tr:last-of-type th {\n",
       "        text-align: right;\n",
       "    }\n",
       "</style>\n",
       "<table border=\"1\" class=\"dataframe\">\n",
       "  <thead>\n",
       "    <tr>\n",
       "      <th></th>\n",
       "      <th colspan=\"3\" halign=\"left\">median_order_days</th>\n",
       "      <th colspan=\"3\" halign=\"left\">prices</th>\n",
       "      <th>baby_status</th>\n",
       "    </tr>\n",
       "    <tr>\n",
       "      <th></th>\n",
       "      <th>mean</th>\n",
       "      <th>min</th>\n",
       "      <th>max</th>\n",
       "      <th>mean</th>\n",
       "      <th>min</th>\n",
       "      <th>max</th>\n",
       "      <th></th>\n",
       "    </tr>\n",
       "    <tr>\n",
       "      <th>baby_status</th>\n",
       "      <th></th>\n",
       "      <th></th>\n",
       "      <th></th>\n",
       "      <th></th>\n",
       "      <th></th>\n",
       "      <th></th>\n",
       "      <th></th>\n",
       "    </tr>\n",
       "  </thead>\n",
       "  <tbody>\n",
       "    <tr>\n",
       "      <th>0</th>\n",
       "      <td>10.734375</td>\n",
       "      <td>0.0</td>\n",
       "      <td>30.0</td>\n",
       "      <td>7.769531</td>\n",
       "      <td>1.0</td>\n",
       "      <td>25.0</td>\n",
       "      <td>didn't buy baby stuff</td>\n",
       "    </tr>\n",
       "    <tr>\n",
       "      <th>1</th>\n",
       "      <td>8.289062</td>\n",
       "      <td>0.0</td>\n",
       "      <td>30.0</td>\n",
       "      <td>7.832031</td>\n",
       "      <td>1.0</td>\n",
       "      <td>25.0</td>\n",
       "      <td>bought  baby stuff</td>\n",
       "    </tr>\n",
       "  </tbody>\n",
       "</table>\n",
       "</div>"
      ],
      "text/plain": [
       "            median_order_days               prices             \\\n",
       "                         mean  min   max      mean  min   max   \n",
       "baby_status                                                     \n",
       "0                   10.734375  0.0  30.0  7.769531  1.0  25.0   \n",
       "1                    8.289062  0.0  30.0  7.832031  1.0  25.0   \n",
       "\n",
       "                       baby_status  \n",
       "                                    \n",
       "baby_status                         \n",
       "0            didn't buy baby stuff  \n",
       "1               bought  baby stuff  "
      ]
     },
     "execution_count": 170,
     "metadata": {},
     "output_type": "execute_result"
    }
   ],
   "source": [
    "#Aggregating the max, mean, and min variables on income-profile level for usage frequency and expenditure.\n",
    "df_baby=df_active.groupby(['baby_status']).agg({'median_order_days':['mean', 'min', 'max'], 'prices':['mean', 'min', 'max']})\n",
    "df_baby.loc[0:1,'baby_status']=['didn\\'t buy baby stuff', 'bought  baby stuff']\n",
    "df_baby"
   ]
  },
  {
   "cell_type": "markdown",
   "id": "c9569043",
   "metadata": {},
   "source": [
    "## e. Pet Profile aggregation"
   ]
  },
  {
   "cell_type": "code",
   "execution_count": 191,
   "id": "e7f03d90",
   "metadata": {},
   "outputs": [
    {
     "data": {
      "text/html": [
       "<div>\n",
       "<style scoped>\n",
       "    .dataframe tbody tr th:only-of-type {\n",
       "        vertical-align: middle;\n",
       "    }\n",
       "\n",
       "    .dataframe tbody tr th {\n",
       "        vertical-align: top;\n",
       "    }\n",
       "\n",
       "    .dataframe thead tr th {\n",
       "        text-align: left;\n",
       "    }\n",
       "\n",
       "    .dataframe thead tr:last-of-type th {\n",
       "        text-align: right;\n",
       "    }\n",
       "</style>\n",
       "<table border=\"1\" class=\"dataframe\">\n",
       "  <thead>\n",
       "    <tr>\n",
       "      <th></th>\n",
       "      <th colspan=\"3\" halign=\"left\">median_order_days</th>\n",
       "      <th colspan=\"3\" halign=\"left\">prices</th>\n",
       "      <th>pet_status</th>\n",
       "    </tr>\n",
       "    <tr>\n",
       "      <th></th>\n",
       "      <th>mean</th>\n",
       "      <th>min</th>\n",
       "      <th>max</th>\n",
       "      <th>mean</th>\n",
       "      <th>min</th>\n",
       "      <th>max</th>\n",
       "      <th></th>\n",
       "    </tr>\n",
       "    <tr>\n",
       "      <th>pet_status</th>\n",
       "      <th></th>\n",
       "      <th></th>\n",
       "      <th></th>\n",
       "      <th></th>\n",
       "      <th></th>\n",
       "      <th></th>\n",
       "      <th></th>\n",
       "    </tr>\n",
       "  </thead>\n",
       "  <tbody>\n",
       "    <tr>\n",
       "      <th>0</th>\n",
       "      <td>10.054688</td>\n",
       "      <td>0.0</td>\n",
       "      <td>30.0</td>\n",
       "      <td>7.789062</td>\n",
       "      <td>1.0</td>\n",
       "      <td>25.0</td>\n",
       "      <td>never bought pet stuff</td>\n",
       "    </tr>\n",
       "    <tr>\n",
       "      <th>1</th>\n",
       "      <td>9.195312</td>\n",
       "      <td>0.0</td>\n",
       "      <td>30.0</td>\n",
       "      <td>7.812500</td>\n",
       "      <td>1.0</td>\n",
       "      <td>25.0</td>\n",
       "      <td>bought pet stuff</td>\n",
       "    </tr>\n",
       "  </tbody>\n",
       "</table>\n",
       "</div>"
      ],
      "text/plain": [
       "           median_order_days               prices             \\\n",
       "                        mean  min   max      mean  min   max   \n",
       "pet_status                                                     \n",
       "0                  10.054688  0.0  30.0  7.789062  1.0  25.0   \n",
       "1                   9.195312  0.0  30.0  7.812500  1.0  25.0   \n",
       "\n",
       "                        pet_status  \n",
       "                                    \n",
       "pet_status                          \n",
       "0           never bought pet stuff  \n",
       "1                 bought pet stuff  "
      ]
     },
     "execution_count": 191,
     "metadata": {},
     "output_type": "execute_result"
    }
   ],
   "source": [
    "#Aggregating the max, mean, and min variables on income-profile level for usage frequency and expenditure.\n",
    "df_pet=df_active.groupby(['pet_status']).agg({'median_order_days':['mean', 'min', 'max'], 'prices':['mean', 'min', 'max']})\n",
    "df_pet.loc[0:1,'pet_status']=['never bought pet stuff', 'bought pet stuff']\n",
    "df_pet"
   ]
  },
  {
   "cell_type": "markdown",
   "id": "1242f347",
   "metadata": {},
   "source": [
    "## f. Vegetarian Profile aggregation"
   ]
  },
  {
   "cell_type": "code",
   "execution_count": 194,
   "id": "98241f01",
   "metadata": {},
   "outputs": [
    {
     "data": {
      "text/html": [
       "<div>\n",
       "<style scoped>\n",
       "    .dataframe tbody tr th:only-of-type {\n",
       "        vertical-align: middle;\n",
       "    }\n",
       "\n",
       "    .dataframe tbody tr th {\n",
       "        vertical-align: top;\n",
       "    }\n",
       "\n",
       "    .dataframe thead tr th {\n",
       "        text-align: left;\n",
       "    }\n",
       "\n",
       "    .dataframe thead tr:last-of-type th {\n",
       "        text-align: right;\n",
       "    }\n",
       "</style>\n",
       "<table border=\"1\" class=\"dataframe\">\n",
       "  <thead>\n",
       "    <tr>\n",
       "      <th></th>\n",
       "      <th colspan=\"3\" halign=\"left\">median_order_days</th>\n",
       "      <th colspan=\"3\" halign=\"left\">prices</th>\n",
       "      <th>vegan_status</th>\n",
       "    </tr>\n",
       "    <tr>\n",
       "      <th></th>\n",
       "      <th>mean</th>\n",
       "      <th>min</th>\n",
       "      <th>max</th>\n",
       "      <th>mean</th>\n",
       "      <th>min</th>\n",
       "      <th>max</th>\n",
       "      <th></th>\n",
       "    </tr>\n",
       "    <tr>\n",
       "      <th>vegan_status</th>\n",
       "      <th></th>\n",
       "      <th></th>\n",
       "      <th></th>\n",
       "      <th></th>\n",
       "      <th></th>\n",
       "      <th></th>\n",
       "      <th></th>\n",
       "    </tr>\n",
       "  </thead>\n",
       "  <tbody>\n",
       "    <tr>\n",
       "      <th>0</th>\n",
       "      <td>13.703125</td>\n",
       "      <td>0.0</td>\n",
       "      <td>30.0</td>\n",
       "      <td>6.957031</td>\n",
       "      <td>1.0</td>\n",
       "      <td>20.0</td>\n",
       "      <td>vegetarian</td>\n",
       "    </tr>\n",
       "    <tr>\n",
       "      <th>1</th>\n",
       "      <td>9.921875</td>\n",
       "      <td>0.0</td>\n",
       "      <td>30.0</td>\n",
       "      <td>7.800781</td>\n",
       "      <td>1.0</td>\n",
       "      <td>25.0</td>\n",
       "      <td>not vegetarian</td>\n",
       "    </tr>\n",
       "  </tbody>\n",
       "</table>\n",
       "</div>"
      ],
      "text/plain": [
       "             median_order_days               prices             \\\n",
       "                          mean  min   max      mean  min   max   \n",
       "vegan_status                                                     \n",
       "0                    13.703125  0.0  30.0  6.957031  1.0  20.0   \n",
       "1                     9.921875  0.0  30.0  7.800781  1.0  25.0   \n",
       "\n",
       "                 vegan_status  \n",
       "                               \n",
       "vegan_status                   \n",
       "0                  vegetarian  \n",
       "1              not vegetarian  "
      ]
     },
     "execution_count": 194,
     "metadata": {},
     "output_type": "execute_result"
    }
   ],
   "source": [
    "#Aggregating the max, mean, and min variables on income-profile level for usage frequency and expenditure.\n",
    "df_vegan=df_active.groupby(['vegan_status']).agg({'median_order_days':['mean', 'min', 'max'], 'prices':['mean', 'min', 'max']})\n",
    "df_vegan.loc[0:1,'vegan_status']=['vegetarian', ' not vegetarian']\n",
    "df_vegan"
   ]
  },
  {
   "cell_type": "markdown",
   "id": "864c3539",
   "metadata": {},
   "source": [
    "## g. Alcohol drinker Profile aggregation"
   ]
  },
  {
   "cell_type": "code",
   "execution_count": 102,
   "id": "54cbf050",
   "metadata": {},
   "outputs": [
    {
     "data": {
      "text/html": [
       "<div>\n",
       "<style scoped>\n",
       "    .dataframe tbody tr th:only-of-type {\n",
       "        vertical-align: middle;\n",
       "    }\n",
       "\n",
       "    .dataframe tbody tr th {\n",
       "        vertical-align: top;\n",
       "    }\n",
       "\n",
       "    .dataframe thead tr th {\n",
       "        text-align: left;\n",
       "    }\n",
       "\n",
       "    .dataframe thead tr:last-of-type th {\n",
       "        text-align: right;\n",
       "    }\n",
       "</style>\n",
       "<table border=\"1\" class=\"dataframe\">\n",
       "  <thead>\n",
       "    <tr>\n",
       "      <th></th>\n",
       "      <th colspan=\"3\" halign=\"left\">median_order_days</th>\n",
       "      <th colspan=\"3\" halign=\"left\">prices</th>\n",
       "      <th>alcohol_status</th>\n",
       "    </tr>\n",
       "    <tr>\n",
       "      <th></th>\n",
       "      <th>mean</th>\n",
       "      <th>min</th>\n",
       "      <th>max</th>\n",
       "      <th>mean</th>\n",
       "      <th>min</th>\n",
       "      <th>max</th>\n",
       "      <th></th>\n",
       "    </tr>\n",
       "    <tr>\n",
       "      <th>alcohol_status</th>\n",
       "      <th></th>\n",
       "      <th></th>\n",
       "      <th></th>\n",
       "      <th></th>\n",
       "      <th></th>\n",
       "      <th></th>\n",
       "      <th></th>\n",
       "    </tr>\n",
       "  </thead>\n",
       "  <tbody>\n",
       "    <tr>\n",
       "      <th>0</th>\n",
       "      <td>9.976562</td>\n",
       "      <td>0.0</td>\n",
       "      <td>30.0</td>\n",
       "      <td>7.792969</td>\n",
       "      <td>1.0</td>\n",
       "      <td>25.0</td>\n",
       "      <td>not alcohol drinker</td>\n",
       "    </tr>\n",
       "    <tr>\n",
       "      <th>1</th>\n",
       "      <td>9.710938</td>\n",
       "      <td>0.0</td>\n",
       "      <td>30.0</td>\n",
       "      <td>7.781250</td>\n",
       "      <td>1.0</td>\n",
       "      <td>25.0</td>\n",
       "      <td>alcohol drinker</td>\n",
       "    </tr>\n",
       "  </tbody>\n",
       "</table>\n",
       "</div>"
      ],
      "text/plain": [
       "               median_order_days               prices             \\\n",
       "                            mean  min   max      mean  min   max   \n",
       "alcohol_status                                                     \n",
       "0                       9.976562  0.0  30.0  7.792969  1.0  25.0   \n",
       "1                       9.710938  0.0  30.0  7.781250  1.0  25.0   \n",
       "\n",
       "                     alcohol_status  \n",
       "                                     \n",
       "alcohol_status                       \n",
       "0               not alcohol drinker  \n",
       "1                   alcohol drinker  "
      ]
     },
     "execution_count": 102,
     "metadata": {},
     "output_type": "execute_result"
    }
   ],
   "source": [
    "#Aggregating the max, mean, and min variables on income-profile level for usage frequency and expenditure.\n",
    "df_alcohol=df_active.groupby(['alcohol_status']).agg({'median_order_days':['mean', 'min', 'max'], 'prices':['mean', 'min', 'max']})\n",
    "df_alcohol.loc[0:1,'alcohol_status']=['not alcohol drinker', 'alcohol drinker']\n",
    "df_alcohol"
   ]
  },
  {
   "cell_type": "markdown",
   "id": "3eb2760a",
   "metadata": {},
   "source": [
    "# 08. Creating visualizations to show the distribution of profiles"
   ]
  },
  {
   "cell_type": "markdown",
   "id": "a532b4f1",
   "metadata": {},
   "source": [
    "## a. Age Profile distribution"
   ]
  },
  {
   "cell_type": "code",
   "execution_count": 195,
   "id": "c651a1fe",
   "metadata": {},
   "outputs": [],
   "source": [
    "#Creatig a subset with unique customers\n",
    "df_unique=df_active.drop_duplicates(subset='customer_id')"
   ]
  },
  {
   "cell_type": "code",
   "execution_count": 143,
   "id": "e408c591",
   "metadata": {},
   "outputs": [
    {
     "data": {
      "text/plain": [
       "(162631, 37)"
      ]
     },
     "execution_count": 143,
     "metadata": {},
     "output_type": "execute_result"
    }
   ],
   "source": [
    "df_unique.shape"
   ]
  },
  {
   "cell_type": "code",
   "execution_count": 144,
   "id": "dc344af9",
   "metadata": {},
   "outputs": [
    {
     "data": {
      "text/plain": [
       "Text(0, 0.5, 'number of customers')"
      ]
     },
     "execution_count": 144,
     "metadata": {},
     "output_type": "execute_result"
    },
    {
     "data": {
      "image/png": "[encoded data removed]",
      "text/plain": [
       "<Figure size 2016x1080 with 1 Axes>"
      ]
     },
     "metadata": {},
     "output_type": "display_data"
    }
   ],
   "source": [
    "#Setting script figure size to 28,15\n",
    "sns.set(rc = {'figure.figsize':(28,15)})\n",
    "#Creating a bar chart for age distribution of customers\n",
    "bar=df_unique['age_group'].value_counts().plot.bar(color='#4690b7', fontsize=20)\n",
    "plt.title('Distribution of age for customers', fontsize=30)\n",
    "plt.xlabel('age group', fontsize=20)\n",
    "plt.ylabel('number of customers', fontsize=20)"
   ]
  },
  {
   "cell_type": "markdown",
   "id": "31ac926d",
   "metadata": {},
   "source": [
    "## b. Income Profile distribution"
   ]
  },
  {
   "cell_type": "code",
   "execution_count": 145,
   "id": "e694dc56",
   "metadata": {},
   "outputs": [
    {
     "data": {
      "text/plain": [
       "Text(0, 0.5, 'number of customers')"
      ]
     },
     "execution_count": 145,
     "metadata": {},
     "output_type": "execute_result"
    },
    {
     "data": {
      "image/png": "[encoded data removed]",
      "text/plain": [
       "<Figure size 2016x1080 with 1 Axes>"
      ]
     },
     "metadata": {},
     "output_type": "display_data"
    }
   ],
   "source": [
    "#Creating a histogram of customers' income\n",
    "hist=df_unique['income'].plot.hist(bins=20, color='#4690b7', fontsize=20)\n",
    "plt.title('Distribution of income for customers', fontsize=30)\n",
    "plt.xlabel('income', fontsize=20)\n",
    "plt.ylabel('number of customers', fontsize=20)"
   ]
  },
  {
   "cell_type": "markdown",
   "id": "c09272ad",
   "metadata": {},
   "source": [
    "## c. Number of dependants Profile distribution"
   ]
  },
  {
   "cell_type": "code",
   "execution_count": 148,
   "id": "f5db6e1d",
   "metadata": {},
   "outputs": [
    {
     "data": {
      "text/html": [
       "<div>\n",
       "<style scoped>\n",
       "    .dataframe tbody tr th:only-of-type {\n",
       "        vertical-align: middle;\n",
       "    }\n",
       "\n",
       "    .dataframe tbody tr th {\n",
       "        vertical-align: top;\n",
       "    }\n",
       "\n",
       "    .dataframe thead th {\n",
       "        text-align: right;\n",
       "    }\n",
       "</style>\n",
       "<table border=\"1\" class=\"dataframe\">\n",
       "  <thead>\n",
       "    <tr style=\"text-align: right;\">\n",
       "      <th>dependant_group</th>\n",
       "      <th>has dependents</th>\n",
       "      <th>no dependents</th>\n",
       "    </tr>\n",
       "    <tr>\n",
       "      <th>fam_status</th>\n",
       "      <th></th>\n",
       "      <th></th>\n",
       "    </tr>\n",
       "  </thead>\n",
       "  <tbody>\n",
       "    <tr>\n",
       "      <th>divorced/widowed</th>\n",
       "      <td>0</td>\n",
       "      <td>13831</td>\n",
       "    </tr>\n",
       "    <tr>\n",
       "      <th>living with parents and siblings</th>\n",
       "      <td>7608</td>\n",
       "      <td>0</td>\n",
       "    </tr>\n",
       "    <tr>\n",
       "      <th>married</th>\n",
       "      <td>114296</td>\n",
       "      <td>0</td>\n",
       "    </tr>\n",
       "    <tr>\n",
       "      <th>single</th>\n",
       "      <td>0</td>\n",
       "      <td>26896</td>\n",
       "    </tr>\n",
       "  </tbody>\n",
       "</table>\n",
       "</div>"
      ],
      "text/plain": [
       "dependant_group                   has dependents  no dependents\n",
       "fam_status                                                     \n",
       "divorced/widowed                               0          13831\n",
       "living with parents and siblings            7608              0\n",
       "married                                   114296              0\n",
       "single                                         0          26896"
      ]
     },
     "execution_count": 148,
     "metadata": {},
     "output_type": "execute_result"
    }
   ],
   "source": [
    "#Creating a crosstab for dependants and family status\n",
    "dependent=pd.crosstab(df_unique['fam_status'], df_unique['dependant_group'])\n",
    "dependent"
   ]
  },
  {
   "cell_type": "code",
   "execution_count": 173,
   "id": "f624d88f",
   "metadata": {},
   "outputs": [
    {
     "data": {
      "text/plain": [
       "<matplotlib.legend.Legend at 0x251b2956250>"
      ]
     },
     "execution_count": 173,
     "metadata": {},
     "output_type": "execute_result"
    },
    {
     "data": {
      "image/png": "[encoded data removed]",
      "text/plain": [
       "<Figure size 2016x1080 with 1 Axes>"
      ]
     },
     "metadata": {},
     "output_type": "display_data"
    }
   ],
   "source": [
    "#Creating a bar chart for number of dependants\n",
    "bar2=dependent.plot.barh(color=['#4690b7', '#24b0fa'], fontsize=20)\n",
    "plt.title('Family status of customers and number of their dependants', fontsize=30)\n",
    "plt.xlabel('number of customers', fontsize=20)\n",
    "plt.ylabel('family status', fontsize=20)\n",
    "plt.legend(fontsize=20)"
   ]
  },
  {
   "cell_type": "markdown",
   "id": "2fe33926",
   "metadata": {},
   "source": [
    "## d. Baby stuff Profile distribution"
   ]
  },
  {
   "cell_type": "code",
   "execution_count": 169,
   "id": "b187e11e",
   "metadata": {},
   "outputs": [
    {
     "data": {
      "text/html": [
       "<div>\n",
       "<style scoped>\n",
       "    .dataframe tbody tr th:only-of-type {\n",
       "        vertical-align: middle;\n",
       "    }\n",
       "\n",
       "    .dataframe tbody tr th {\n",
       "        vertical-align: top;\n",
       "    }\n",
       "\n",
       "    .dataframe thead th {\n",
       "        text-align: right;\n",
       "    }\n",
       "</style>\n",
       "<table border=\"1\" class=\"dataframe\">\n",
       "  <thead>\n",
       "    <tr style=\"text-align: right;\">\n",
       "      <th>baby_status</th>\n",
       "      <th>0</th>\n",
       "      <th>1</th>\n",
       "    </tr>\n",
       "    <tr>\n",
       "      <th>fam_status</th>\n",
       "      <th></th>\n",
       "      <th></th>\n",
       "    </tr>\n",
       "  </thead>\n",
       "  <tbody>\n",
       "    <tr>\n",
       "      <th>divorced/widowed</th>\n",
       "      <td>11209</td>\n",
       "      <td>2622</td>\n",
       "    </tr>\n",
       "    <tr>\n",
       "      <th>living with parents and siblings</th>\n",
       "      <td>6204</td>\n",
       "      <td>1404</td>\n",
       "    </tr>\n",
       "    <tr>\n",
       "      <th>married</th>\n",
       "      <td>93047</td>\n",
       "      <td>21249</td>\n",
       "    </tr>\n",
       "    <tr>\n",
       "      <th>single</th>\n",
       "      <td>21941</td>\n",
       "      <td>4955</td>\n",
       "    </tr>\n",
       "  </tbody>\n",
       "</table>\n",
       "</div>"
      ],
      "text/plain": [
       "baby_status                           0      1\n",
       "fam_status                                    \n",
       "divorced/widowed                  11209   2622\n",
       "living with parents and siblings   6204   1404\n",
       "married                           93047  21249\n",
       "single                            21941   4955"
      ]
     },
     "execution_count": 169,
     "metadata": {},
     "output_type": "execute_result"
    }
   ],
   "source": [
    "#Creating a pie chart\n",
    "pd.crosstab(df_unique['fam_status'], df_unique['baby_status'])"
   ]
  },
  {
   "cell_type": "markdown",
   "id": "ba1a5c00",
   "metadata": {},
   "source": [
    "#### We can notice here that even people who indicated that they don't have dependants have purchased baby stuff. They could have purchased it as a gift, so we can't make precise conclusion that if the customer purchased baby stuff, they have a baby."
   ]
  },
  {
   "cell_type": "code",
   "execution_count": 218,
   "id": "f52c7ce5",
   "metadata": {},
   "outputs": [
    {
     "data": {
      "text/plain": [
       "0    132401\n",
       "1     30230\n",
       "Name: baby_status, dtype: int64"
      ]
     },
     "execution_count": 218,
     "metadata": {},
     "output_type": "execute_result"
    }
   ],
   "source": [
    "df_unique['baby_status'].value_counts()"
   ]
  },
  {
   "cell_type": "code",
   "execution_count": 219,
   "id": "c71f7863",
   "metadata": {},
   "outputs": [
    {
     "data": {
      "image/png": "[encoded data removed]",
      "text/plain": [
       "<Figure size 1296x576 with 1 Axes>"
      ]
     },
     "metadata": {},
     "output_type": "display_data"
    }
   ],
   "source": [
    "sns.set(rc = {'figure.figsize':(18,8)})\n",
    "#Creating a pie chart for customers who have bought baby stuff at least once\n",
    "baby_stuff=df_unique['baby_status'].value_counts()\n",
    "pie=baby_stuff.plot.pie(label='', labels=['never bought baby stuff', 'bought baby stuff at least once'],autopct=('%1.f%%'), colors=['#8525be','#24b0fa'], textprops={'fontsize': 20})\n",
    "pie"
   ]
  },
  {
   "cell_type": "markdown",
   "id": "4aff2b83",
   "metadata": {},
   "source": [
    "## e. Pet Profile distribution"
   ]
  },
  {
   "cell_type": "code",
   "execution_count": 184,
   "id": "3c4286df",
   "metadata": {},
   "outputs": [
    {
     "data": {
      "text/plain": [
       "0    149456\n",
       "1     13175\n",
       "Name: pet_status, dtype: int64"
      ]
     },
     "execution_count": 184,
     "metadata": {},
     "output_type": "execute_result"
    }
   ],
   "source": [
    "df_unique['pet_status'].value_counts()"
   ]
  },
  {
   "cell_type": "code",
   "execution_count": 220,
   "id": "b7ef8dc1",
   "metadata": {},
   "outputs": [
    {
     "data": {
      "text/plain": [
       "<AxesSubplot:>"
      ]
     },
     "execution_count": 220,
     "metadata": {},
     "output_type": "execute_result"
    },
    {
     "data": {
      "image/png": "[encoded data removed]",
      "text/plain": [
       "<Figure size 1296x576 with 1 Axes>"
      ]
     },
     "metadata": {},
     "output_type": "display_data"
    }
   ],
   "source": [
    "#Creating a pie chart for customers who have bought pet stuff at least once\n",
    "pet_stuff=df_unique['pet_status'].value_counts()\n",
    "pie2=pet_stuff.plot.pie(label='', labels=['never bought pet stuff', 'bought pet stuff at least once'],autopct=('%1.f%%'), colors=['#1874a5','#24b0fa'], textprops={'fontsize': 20})\n",
    "pie2"
   ]
  },
  {
   "cell_type": "markdown",
   "id": "ce141990",
   "metadata": {},
   "source": [
    "## f. Vegetarian profile distribution"
   ]
  },
  {
   "cell_type": "code",
   "execution_count": 196,
   "id": "f2f7f448",
   "metadata": {},
   "outputs": [
    {
     "data": {
      "text/plain": [
       "1    154996\n",
       "0      7635\n",
       "Name: vegan_status, dtype: int64"
      ]
     },
     "execution_count": 196,
     "metadata": {},
     "output_type": "execute_result"
    }
   ],
   "source": [
    "df_unique['vegan_status'].value_counts()"
   ]
  },
  {
   "cell_type": "code",
   "execution_count": 221,
   "id": "866bafcb",
   "metadata": {},
   "outputs": [
    {
     "data": {
      "text/plain": [
       "<AxesSubplot:>"
      ]
     },
     "execution_count": 221,
     "metadata": {},
     "output_type": "execute_result"
    },
    {
     "data": {
      "image/png": "[encoded data removed]",
      "text/plain": [
       "<Figure size 1296x576 with 1 Axes>"
      ]
     },
     "metadata": {},
     "output_type": "display_data"
    }
   ],
   "source": [
    "#Creating a pie chart for customers who have bought meat least once\n",
    "vegan=df_unique['vegan_status'].value_counts()\n",
    "pie3=vegan.plot.pie(label='',labels=['bought meat/seafood at least once', 'never bought meat/seafood'],autopct=('%1.f%%'), colors=['#1874a5','#24b0fa'], textprops={'fontsize': 20})\n",
    "pie"
   ]
  },
  {
   "cell_type": "markdown",
   "id": "b32b65f3",
   "metadata": {},
   "source": [
    "## g. Alcohol drinker profile distribution"
   ]
  },
  {
   "cell_type": "code",
   "execution_count": 198,
   "id": "45f79f65",
   "metadata": {},
   "outputs": [
    {
     "data": {
      "text/plain": [
       "0    149480\n",
       "1     13151\n",
       "Name: alcohol_status, dtype: int64"
      ]
     },
     "execution_count": 198,
     "metadata": {},
     "output_type": "execute_result"
    }
   ],
   "source": [
    "df_unique['alcohol_status'].value_counts()"
   ]
  },
  {
   "cell_type": "code",
   "execution_count": 222,
   "id": "f4233937",
   "metadata": {},
   "outputs": [
    {
     "data": {
      "text/plain": [
       "<AxesSubplot:>"
      ]
     },
     "execution_count": 222,
     "metadata": {},
     "output_type": "execute_result"
    },
    {
     "data": {
      "image/png": "[encoded data removed]",
      "text/plain": [
       "<Figure size 1296x576 with 1 Axes>"
      ]
     },
     "metadata": {},
     "output_type": "display_data"
    }
   ],
   "source": [
    "#Creating a pie chart for customers who have bought alcohol at least once\n",
    "alcohol=df_unique['alcohol_status'].value_counts()\n",
    "pie4=alcohol.plot.pie(label='', labels=['never bought alcohol', 'bought alcohol at least once'],autopct=('%1.f%%'), colors=['#1874a5','#24b0fa'], textprops={'fontsize': 20})\n",
    "pie"
   ]
  },
  {
   "cell_type": "markdown",
   "id": "e8223862",
   "metadata": {},
   "source": [
    "# 9. Exporting visualizations"
   ]
  },
  {
   "cell_type": "code",
   "execution_count": 200,
   "id": "a950beba",
   "metadata": {},
   "outputs": [],
   "source": [
    "bar.figure.savefig(os.path.join(path, '04 Analysis', 'Visualizations', 'bar_age_group.png'))\n",
    "hist.figure.savefig(os.path.join(path, '04 Analysis', 'Visualizations', 'hist_income_distribution.png'))\n",
    "bar2.figure.savefig(os.path.join(path, '04 Analysis', 'Visualizations', 'bar_dependants.png'))\n"
   ]
  },
  {
   "cell_type": "code",
   "execution_count": 223,
   "id": "6d9ebfd9",
   "metadata": {},
   "outputs": [],
   "source": [
    "pie.figure.savefig(os.path.join(path, '04 Analysis', 'Visualizations', 'pie_baby_stuff.png'))\n",
    "pie2.figure.savefig(os.path.join(path, '04 Analysis', 'Visualizations', 'pie_pet_stuff.png'))\n",
    "pie3.figure.savefig(os.path.join(path, '04 Analysis', 'Visualizations', 'pie_vegan.png'))\n",
    "pie4.figure.savefig(os.path.join(path, '04 Analysis', 'Visualizations', 'pie_alchol.png'))"
   ]
  },
  {
   "cell_type": "code",
   "execution_count": null,
   "id": "5a850b20",
   "metadata": {},
   "outputs": [],
   "source": []
  }
 ],
 "metadata": {
  "kernelspec": {
   "display_name": "Python 3 (ipykernel)",
   "language": "python",
   "name": "python3"
  },
  "language_info": {
   "codemirror_mode": {
    "name": "ipython",
    "version": 3
   },
   "file_extension": ".py",
   "mimetype": "text/x-python",
   "name": "python",
   "nbconvert_exporter": "python",
   "pygments_lexer": "ipython3",
   "version": "3.9.12"
  }
 },
 "nbformat": 4,
 "nbformat_minor": 5
}
