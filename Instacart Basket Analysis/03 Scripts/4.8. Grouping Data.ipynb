{
 "cells": [
  {
   "cell_type": "markdown",
   "id": "3a7394d6",
   "metadata": {},
   "source": [
    "### Contents\n",
    "    01. Importing libraries and data\n",
    "    02. Grouping data and aggregating variables"
   ]
  },
  {
   "cell_type": "markdown",
   "id": "e22acc68",
   "metadata": {},
   "source": [
    "# 01. Importing libraries and data"
   ]
  },
  {
   "cell_type": "code",
   "execution_count": 3,
   "id": "35f16a3b",
   "metadata": {},
   "outputs": [],
   "source": [
    "#Importing pandas, numpy, os and merged data\n",
    "import pandas as pd\n",
    "import numpy as np\n",
    "import os\n",
    "path=r'C:\\Users\\Мунаввар\\Desktop\\bootcamps\\Achievement 4\\Instacart Basket Analysis'\n",
    "ords_prods_merge=pd.read_pickle(os.path.join(path, '02 Data', 'Prepared Data', 'merged_derived_data.pkl'))"
   ]
  },
  {
   "cell_type": "markdown",
   "id": "8880ea64",
   "metadata": {},
   "source": [
    "# 02. Grouping data and aggregating variables"
   ]
  },
  {
   "cell_type": "code",
   "execution_count": 4,
   "id": "88675e73",
   "metadata": {},
   "outputs": [],
   "source": [
    "#Creating a subset of million rows\n",
    "df=ords_prods_merge[:1000000]"
   ]
  },
  {
   "cell_type": "code",
   "execution_count": null,
   "id": "3f637c2f",
   "metadata": {},
   "outputs": [],
   "source": [
    "df.shape"
   ]
  },
  {
   "cell_type": "code",
   "execution_count": null,
   "id": "c4a849f9",
   "metadata": {},
   "outputs": [],
   "source": [
    "df.head()"
   ]
  },
  {
   "cell_type": "code",
   "execution_count": null,
   "id": "06d617c7",
   "metadata": {},
   "outputs": [],
   "source": [
    "#Grouping the variables\n",
    "df.groupby('product_name')"
   ]
  },
  {
   "cell_type": "code",
   "execution_count": 5,
   "id": "55db9bfb",
   "metadata": {},
   "outputs": [
    {
     "data": {
      "text/html": [
       "<div>\n",
       "<style scoped>\n",
       "    .dataframe tbody tr th:only-of-type {\n",
       "        vertical-align: middle;\n",
       "    }\n",
       "\n",
       "    .dataframe tbody tr th {\n",
       "        vertical-align: top;\n",
       "    }\n",
       "\n",
       "    .dataframe thead tr th {\n",
       "        text-align: left;\n",
       "    }\n",
       "\n",
       "    .dataframe thead tr:last-of-type th {\n",
       "        text-align: right;\n",
       "    }\n",
       "</style>\n",
       "<table border=\"1\" class=\"dataframe\">\n",
       "  <thead>\n",
       "    <tr>\n",
       "      <th></th>\n",
       "      <th>order_number</th>\n",
       "    </tr>\n",
       "    <tr>\n",
       "      <th></th>\n",
       "      <th>mean</th>\n",
       "    </tr>\n",
       "    <tr>\n",
       "      <th>department_id</th>\n",
       "      <th></th>\n",
       "    </tr>\n",
       "  </thead>\n",
       "  <tbody>\n",
       "    <tr>\n",
       "      <th>4</th>\n",
       "      <td>18.825780</td>\n",
       "    </tr>\n",
       "    <tr>\n",
       "      <th>7</th>\n",
       "      <td>17.472355</td>\n",
       "    </tr>\n",
       "    <tr>\n",
       "      <th>13</th>\n",
       "      <td>17.993423</td>\n",
       "    </tr>\n",
       "    <tr>\n",
       "      <th>14</th>\n",
       "      <td>19.246334</td>\n",
       "    </tr>\n",
       "    <tr>\n",
       "      <th>16</th>\n",
       "      <td>19.463012</td>\n",
       "    </tr>\n",
       "    <tr>\n",
       "      <th>17</th>\n",
       "      <td>11.294069</td>\n",
       "    </tr>\n",
       "    <tr>\n",
       "      <th>19</th>\n",
       "      <td>19.305237</td>\n",
       "    </tr>\n",
       "    <tr>\n",
       "      <th>20</th>\n",
       "      <td>17.599636</td>\n",
       "    </tr>\n",
       "  </tbody>\n",
       "</table>\n",
       "</div>"
      ],
      "text/plain": [
       "              order_number\n",
       "                      mean\n",
       "department_id             \n",
       "4                18.825780\n",
       "7                17.472355\n",
       "13               17.993423\n",
       "14               19.246334\n",
       "16               19.463012\n",
       "17               11.294069\n",
       "19               19.305237\n",
       "20               17.599636"
      ]
     },
     "execution_count": 5,
     "metadata": {},
     "output_type": "execute_result"
    }
   ],
   "source": [
    "#Average number of orders across each Instacart department.\n",
    "df.groupby('department_id').agg({'order_number':['mean']})"
   ]
  },
  {
   "cell_type": "code",
   "execution_count": null,
   "id": "1cb6448a",
   "metadata": {},
   "outputs": [],
   "source": [
    "#Performing multiple aggregation\n",
    "df.groupby('department_id').agg({'order_number':['mean', 'min', 'max']})"
   ]
  },
  {
   "cell_type": "code",
   "execution_count": null,
   "id": "caeef2d8",
   "metadata": {},
   "outputs": [],
   "source": [
    "#Aggregating data with transform\n",
    "ords_prods_merge['max_order'] = ords_prods_merge.groupby(['customer_id'])['order_number'].transform(np.max)\n",
    "ords_prods_merge.head()"
   ]
  },
  {
   "cell_type": "code",
   "execution_count": null,
   "id": "c3cf85a4",
   "metadata": {},
   "outputs": [],
   "source": [
    "#not to assign any options regarding the maximum number of rows to display.\n",
    "pd.options.display.max_rows = None"
   ]
  },
  {
   "cell_type": "code",
   "execution_count": null,
   "id": "656f9e74",
   "metadata": {},
   "outputs": [],
   "source": [
    "ords_prods_merge.head(100)"
   ]
  },
  {
   "cell_type": "code",
   "execution_count": null,
   "id": "b57d9cb4",
   "metadata": {},
   "outputs": [],
   "source": [
    "#creating a flag that assigns a “loyalty” label to a user ID based on its corresponding max order value. \n",
    "ords_prods_merge.loc[ords_prods_merge['max_order']>40, 'loyalty_flag']='Loyal customer'\n",
    "ords_prods_merge.loc[(ords_prods_merge['max_order']<=40)&(ords_prods_merge['max_order']>10), 'loyalty_flag']='Regular customer'\n",
    "ords_prods_merge.loc[ords_prods_merge['max_order']<=10, 'loyalty_flag']='New customer'\n",
    "ords_prods_merge['loyalty_flag'].value_counts()"
   ]
  },
  {
   "cell_type": "code",
   "execution_count": null,
   "id": "3914e5b5",
   "metadata": {
    "scrolled": true
   },
   "outputs": [],
   "source": [
    "ords_prods_merge[['customer_id', 'loyalty_flag', 'order_number']].head(60)"
   ]
  },
  {
   "cell_type": "code",
   "execution_count": 19,
   "id": "74ba30c1",
   "metadata": {},
   "outputs": [],
   "source": [
    "#Exporting the data\n",
    "ords_prods_merge.to_pickle(os.path.join(path, '02 Data', 'Prepared Data', 'merged_grouped_data.pkl'))"
   ]
  },
  {
   "cell_type": "code",
   "execution_count": null,
   "id": "8c3d482f",
   "metadata": {},
   "outputs": [],
   "source": []
  }
 ],
 "metadata": {
  "kernelspec": {
   "display_name": "Python 3 (ipykernel)",
   "language": "python",
   "name": "python3"
  },
  "language_info": {
   "codemirror_mode": {
    "name": "ipython",
    "version": 3
   },
   "file_extension": ".py",
   "mimetype": "text/x-python",
   "name": "python",
   "nbconvert_exporter": "python",
   "pygments_lexer": "ipython3",
   "version": "3.9.12"
  }
 },
 "nbformat": 4,
 "nbformat_minor": 5
}
