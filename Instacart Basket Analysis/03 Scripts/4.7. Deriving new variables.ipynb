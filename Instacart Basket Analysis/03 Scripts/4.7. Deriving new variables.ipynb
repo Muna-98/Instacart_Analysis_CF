{
 "cells": [
  {
   "cell_type": "markdown",
   "id": "57a9ba69",
   "metadata": {},
   "source": [
    "### Contents\n",
    "    01.Importing libraries and data\n",
    "    02. Deriving New Variables\n",
    "        a. Deriving New Variables\n",
    "        b. If statements with loc() functions\n",
    "        c. If statements with for-loops\n",
    "    03. Task 4.7.\n",
    "    Exporting to pickle"
   ]
  },
  {
   "cell_type": "markdown",
   "id": "f8fc4648",
   "metadata": {},
   "source": [
    "# 01.Importing libraries and data"
   ]
  },
  {
   "cell_type": "code",
   "execution_count": 1,
   "id": "e94017c2",
   "metadata": {},
   "outputs": [],
   "source": [
    "#Importing pandas, numpy, os and previously merged dataset\n",
    "import pandas as pd\n",
    "import numpy as np\n",
    "import os\n",
    "path=r'C:\\Users\\Мунаввар\\Desktop\\bootcamps\\Achievement 4\\Instacart Basket Analysis'\n",
    "df_ords_prods_merged=pd.read_pickle(os.path.join(path,'02 Data', 'Prepared Data', 'combined_orders_producrs.pkl'))"
   ]
  },
  {
   "cell_type": "markdown",
   "id": "fcb2debf",
   "metadata": {},
   "source": [
    "# 02. Deriving New Variables"
   ]
  },
  {
   "cell_type": "code",
   "execution_count": 2,
   "id": "9984032f",
   "metadata": {},
   "outputs": [],
   "source": [
    "#Creating a subset of dataframe\n",
    "df=df_ords_prods_merged[:1000000]"
   ]
  },
  {
   "cell_type": "markdown",
   "id": "2f80038d",
   "metadata": {},
   "source": [
    "## a. If statements with user-defined functions"
   ]
  },
  {
   "cell_type": "code",
   "execution_count": 3,
   "id": "67dc98e1",
   "metadata": {},
   "outputs": [
    {
     "name": "stderr",
     "output_type": "stream",
     "text": [
      "C:\\Users\\Мунаввар\\AppData\\Local\\Temp\\ipykernel_16192\\269932414.py:13: SettingWithCopyWarning: \n",
      "A value is trying to be set on a copy of a slice from a DataFrame.\n",
      "Try using .loc[row_indexer,col_indexer] = value instead\n",
      "\n",
      "See the caveats in the documentation: https://pandas.pydata.org/pandas-docs/stable/user_guide/indexing.html#returning-a-view-versus-a-copy\n",
      "  df['price_range']=df.apply(price_label, axis=1)\n"
     ]
    }
   ],
   "source": [
    "#A function that will essentially apply a string label to every row within the dataframe designating it as a low-, mid-, or high-range product based on its price.\n",
    "def price_label(row):\n",
    "    if row['prices']<=5:\n",
    "        return 'low-range product'\n",
    "    elif row['prices']<=15:\n",
    "        return 'mid-range product'\n",
    "    elif row['prices']>15:\n",
    "        return 'high-range product'\n",
    "    else:\n",
    "        return 'Not enough data'\n",
    "    \n",
    "#Calling the function\n",
    "df['price_range']=df.apply(price_label, axis=1)"
   ]
  },
  {
   "cell_type": "code",
   "execution_count": 4,
   "id": "efaa7b3a",
   "metadata": {},
   "outputs": [
    {
     "data": {
      "text/plain": [
       "mid-range product    756450\n",
       "low-range product    243550\n",
       "Name: price_range, dtype: int64"
      ]
     },
     "execution_count": 4,
     "metadata": {},
     "output_type": "execute_result"
    }
   ],
   "source": [
    "df['price_range'].value_counts()"
   ]
  },
  {
   "cell_type": "code",
   "execution_count": 5,
   "id": "0994c56a",
   "metadata": {},
   "outputs": [
    {
     "data": {
      "text/plain": [
       "14.8"
      ]
     },
     "execution_count": 5,
     "metadata": {},
     "output_type": "execute_result"
    }
   ],
   "source": [
    "#the most expensive product within the subset\n",
    "df['prices'].max()"
   ]
  },
  {
   "cell_type": "markdown",
   "id": "1d4164f6",
   "metadata": {},
   "source": [
    "## b. If statements with loc() functions"
   ]
  },
  {
   "cell_type": "code",
   "execution_count": 6,
   "id": "ca52cd9a",
   "metadata": {},
   "outputs": [
    {
     "name": "stderr",
     "output_type": "stream",
     "text": [
      "C:\\Users\\Мунаввар\\AppData\\Local\\Temp\\ipykernel_16192\\1533331673.py:1: SettingWithCopyWarning: \n",
      "A value is trying to be set on a copy of a slice from a DataFrame.\n",
      "Try using .loc[row_indexer,col_indexer] = value instead\n",
      "\n",
      "See the caveats in the documentation: https://pandas.pydata.org/pandas-docs/stable/user_guide/indexing.html#returning-a-view-versus-a-copy\n",
      "  df.loc[df['prices']>15, 'prices_range_loc']='High-range product'\n"
     ]
    }
   ],
   "source": [
    "df.loc[df['prices']>15, 'prices_range_loc']='High-range product'"
   ]
  },
  {
   "cell_type": "code",
   "execution_count": 8,
   "id": "17d80230",
   "metadata": {},
   "outputs": [],
   "source": [
    "df.loc[(df['prices']>5)&(df['prices']<=15), 'prices_range_loc']='Mid-range product'"
   ]
  },
  {
   "cell_type": "code",
   "execution_count": 12,
   "id": "707f9f42",
   "metadata": {},
   "outputs": [],
   "source": [
    "df.loc[df['prices']<=5, 'prices_range_loc']='Low-range product'"
   ]
  },
  {
   "cell_type": "code",
   "execution_count": 13,
   "id": "5767c336",
   "metadata": {},
   "outputs": [
    {
     "data": {
      "text/plain": [
       "Mid-range product    756450\n",
       "Low-range product    243550\n",
       "Name: prices_range_loc, dtype: int64"
      ]
     },
     "execution_count": 13,
     "metadata": {},
     "output_type": "execute_result"
    }
   ],
   "source": [
    "df['prices_range_loc'].value_counts()"
   ]
  },
  {
   "cell_type": "code",
   "execution_count": 14,
   "id": "1db2e50a",
   "metadata": {},
   "outputs": [],
   "source": [
    "#loc() function on full dataset\n",
    "df_merged=df_ords_prods_merged\n",
    "df_merged.loc[df_merged['prices']>15,'price_range']='High-range product'"
   ]
  },
  {
   "cell_type": "code",
   "execution_count": 17,
   "id": "01c9a5b2",
   "metadata": {},
   "outputs": [],
   "source": [
    "df_merged.loc[(df_merged['prices']>5)&(df_merged['prices']<=15), 'price_range']='Mid-range product'"
   ]
  },
  {
   "cell_type": "code",
   "execution_count": 18,
   "id": "09e4c7f8",
   "metadata": {},
   "outputs": [],
   "source": [
    "df_merged.loc[df_merged['prices']<=5, 'price_range']='Low-range product'"
   ]
  },
  {
   "cell_type": "code",
   "execution_count": 19,
   "id": "4654d066",
   "metadata": {},
   "outputs": [
    {
     "data": {
      "text/plain": [
       "Mid-range product     21860860\n",
       "Low-range product     10126321\n",
       "High-range product      417678\n",
       "Name: price_range, dtype: int64"
      ]
     },
     "execution_count": 19,
     "metadata": {},
     "output_type": "execute_result"
    }
   ],
   "source": [
    "df_merged['price_range'].value_counts()"
   ]
  },
  {
   "cell_type": "markdown",
   "id": "f9013105",
   "metadata": {},
   "source": [
    "## c. If statements with for-loops"
   ]
  },
  {
   "cell_type": "code",
   "execution_count": 22,
   "id": "afe457ba",
   "metadata": {},
   "outputs": [
    {
     "data": {
      "text/plain": [
       "0    6204182\n",
       "1    5660230\n",
       "6    4496490\n",
       "2    4213830\n",
       "5    4205791\n",
       "3    3840534\n",
       "4    3783802\n",
       "Name: order_day_of_week, dtype: int64"
      ]
     },
     "execution_count": 22,
     "metadata": {},
     "output_type": "execute_result"
    }
   ],
   "source": [
    "#Counting the busiest day\n",
    "df_merged['order_day_of_week'].value_counts()"
   ]
  },
  {
   "cell_type": "code",
   "execution_count": 23,
   "id": "a88a76de",
   "metadata": {},
   "outputs": [],
   "source": [
    "#Creating a list for days based on busyness\n",
    "result=[]\n",
    "for value in df_merged['order_day_of_week']:\n",
    "    if value==0:\n",
    "        result.append('Busiest day')\n",
    "    elif value==4:\n",
    "        result.append('Least busy')\n",
    "    else:\n",
    "        result.append('Regularly busy')"
   ]
  },
  {
   "cell_type": "code",
   "execution_count": 24,
   "id": "b94af56a",
   "metadata": {},
   "outputs": [],
   "source": [
    "#Merging list with dataframe\n",
    "df_merged['busiest_day']=result"
   ]
  },
  {
   "cell_type": "code",
   "execution_count": 25,
   "id": "6b6c4bf5",
   "metadata": {},
   "outputs": [
    {
     "data": {
      "text/plain": [
       "Regularly busy    22416875\n",
       "Busiest day        6204182\n",
       "Least busy         3783802\n",
       "Name: busiest_day, dtype: int64"
      ]
     },
     "execution_count": 25,
     "metadata": {},
     "output_type": "execute_result"
    }
   ],
   "source": [
    "df_merged['busiest_day'].value_counts(dropna=False)"
   ]
  },
  {
   "cell_type": "markdown",
   "id": "744bb06a",
   "metadata": {},
   "source": [
    "# 03. Task 4.7."
   ]
  },
  {
   "cell_type": "code",
   "execution_count": 29,
   "id": "25d96dee",
   "metadata": {},
   "outputs": [],
   "source": [
    "#Re-doing busiest days\n",
    "result=[]\n",
    "for value in df_merged['order_day_of_week']:\n",
    "    if value==0 or value==1:\n",
    "        result.append('Busiest days')\n",
    "    elif value==4 or value==3:\n",
    "        result.append('Least busy')\n",
    "    else:\n",
    "        result.append('Regularly busy')"
   ]
  },
  {
   "cell_type": "code",
   "execution_count": 30,
   "id": "e091d5bf",
   "metadata": {},
   "outputs": [],
   "source": [
    "#Replacing the column in dataframe\n",
    "df_merged['busiest_day']=result"
   ]
  },
  {
   "cell_type": "code",
   "execution_count": 31,
   "id": "c6a678a3",
   "metadata": {},
   "outputs": [
    {
     "data": {
      "text/plain": [
       "Regularly busy    12916111\n",
       "Busiest days      11864412\n",
       "Least busy         7624336\n",
       "Name: busiest_day, dtype: int64"
      ]
     },
     "execution_count": 31,
     "metadata": {},
     "output_type": "execute_result"
    }
   ],
   "source": [
    "#Counting the results\n",
    "df_merged['busiest_day'].value_counts(dropna=False)"
   ]
  },
  {
   "cell_type": "markdown",
   "id": "d0411ff9",
   "metadata": {},
   "source": [
    "#### Here we can see that the number of regularly busy days has decreased by almost half, while the number of busiest and least busy days has increased sufficiently. The summation of the orders is correct."
   ]
  },
  {
   "cell_type": "code",
   "execution_count": 33,
   "id": "d8fe2f62",
   "metadata": {
    "scrolled": true
   },
   "outputs": [
    {
     "data": {
      "text/plain": [
       "10    2761760\n",
       "11    2736140\n",
       "14    2689136\n",
       "15    2662144\n",
       "13    2660954\n",
       "12    2618532\n",
       "16    2535202\n",
       "9     2454203\n",
       "17    2087654\n",
       "8     1718118\n",
       "18    1636502\n",
       "19    1258305\n",
       "20     976156\n",
       "7      891054\n",
       "21     795637\n",
       "22     634225\n",
       "23     402316\n",
       "6      290493\n",
       "0      218769\n",
       "1      115700\n",
       "5       87961\n",
       "2       69375\n",
       "4       53242\n",
       "3       51281\n",
       "Name: order_hour_of_day, dtype: int64"
      ]
     },
     "execution_count": 33,
     "metadata": {},
     "output_type": "execute_result"
    }
   ],
   "source": [
    "#Finding the busiest hours of day\n",
    "df_merged['order_hour_of_day'].value_counts()"
   ]
  },
  {
   "cell_type": "code",
   "execution_count": 34,
   "id": "a37a56a9",
   "metadata": {},
   "outputs": [],
   "source": [
    "#Creating a list for busiest hours\n",
    "result=[]\n",
    "for value in df_merged['order_hour_of_day']:\n",
    "    if value>=9 and value<=16:\n",
    "        result.append('Most orders')\n",
    "    elif value<6:\n",
    "        result.append('Fewest orders')\n",
    "    else:\n",
    "        result.append('Average orders')"
   ]
  },
  {
   "cell_type": "code",
   "execution_count": 35,
   "id": "b5fc5fc3",
   "metadata": {},
   "outputs": [],
   "source": [
    "#Merging the list with dataframe\n",
    "df_merged['busiest_period_of_day']=result"
   ]
  },
  {
   "cell_type": "code",
   "execution_count": 36,
   "id": "74bfeb72",
   "metadata": {},
   "outputs": [
    {
     "data": {
      "text/plain": [
       "Most orders       21118071\n",
       "Average orders    10690460\n",
       "Fewest orders       596328\n",
       "Name: busiest_period_of_day, dtype: int64"
      ]
     },
     "execution_count": 36,
     "metadata": {},
     "output_type": "execute_result"
    }
   ],
   "source": [
    "#Frequency for the column\n",
    "df_merged['busiest_period_of_day'].value_counts(dropna=False)"
   ]
  },
  {
   "cell_type": "markdown",
   "id": "91218b37",
   "metadata": {},
   "source": [
    "# Exporting to pickle"
   ]
  },
  {
   "cell_type": "code",
   "execution_count": 38,
   "id": "f2b65537",
   "metadata": {},
   "outputs": [],
   "source": [
    "df_merged.to_pickle(os.path.join(path, '02 Data', 'Prepared Data', 'merged_derived_data.pkl'))"
   ]
  },
  {
   "cell_type": "code",
   "execution_count": null,
   "id": "66bf5352",
   "metadata": {},
   "outputs": [],
   "source": []
  }
 ],
 "metadata": {
  "kernelspec": {
   "display_name": "Python 3 (ipykernel)",
   "language": "python",
   "name": "python3"
  },
  "language_info": {
   "codemirror_mode": {
    "name": "ipython",
    "version": 3
   },
   "file_extension": ".py",
   "mimetype": "text/x-python",
   "name": "python",
   "nbconvert_exporter": "python",
   "pygments_lexer": "ipython3",
   "version": "3.9.12"
  }
 },
 "nbformat": 4,
 "nbformat_minor": 5
}
