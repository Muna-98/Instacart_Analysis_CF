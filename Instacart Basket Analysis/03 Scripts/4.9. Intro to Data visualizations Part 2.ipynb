{
 "cells": [
  {
   "cell_type": "markdown",
   "id": "cf11638c",
   "metadata": {},
   "source": [
    "### Contents\n",
    "    01. Importing libraries and data\n",
    "    02. Creating a bar chart, histogram, scatterplot and a line chart\n",
    "    03. Histogram of the “order_hour_of_day” column\n",
    "    04. Bar chart from the “loyalty_flag” column\n",
    "    05. Line chart of prices to check the difference in expenditure\n",
    "    06. Exploratory analysis of customer demographics"
   ]
  },
  {
   "cell_type": "markdown",
   "id": "925a587d",
   "metadata": {},
   "source": [
    "# 01. Importing libraries and data"
   ]
  },
  {
   "cell_type": "code",
   "execution_count": 1,
   "id": "c7bfd60c",
   "metadata": {},
   "outputs": [],
   "source": [
    "#Importing libraries\n",
    "import pandas as pd\n",
    "import numpy as np\n",
    "import os\n",
    "import matplotlib.pyplot as plt\n",
    "import seaborn as sns\n",
    "import scipy"
   ]
  },
  {
   "cell_type": "code",
   "execution_count": 2,
   "id": "f61a3a83",
   "metadata": {},
   "outputs": [],
   "source": [
    "#Importing data\n",
    "path=r'C:\\Users\\munav\\Desktop\\bootcamps\\Achievement 4\\Instacart Basket Analysis'\n",
    "df_merged=pd.read_pickle(os.path.join(path, '02 Data', 'Prepared Data', 'final_combined.pkl'))"
   ]
  },
  {
   "cell_type": "markdown",
   "id": "724edfcc",
   "metadata": {},
   "source": [
    "# 02. Creating a bar chart, histogram, scatterplot and a line chart"
   ]
  },
  {
   "cell_type": "code",
   "execution_count": 4,
   "id": "e7e1f9dd",
   "metadata": {
    "scrolled": true
   },
   "outputs": [
    {
     "data": {
      "text/plain": [
       "(32404859, 32)"
      ]
     },
     "execution_count": 4,
     "metadata": {},
     "output_type": "execute_result"
    }
   ],
   "source": [
    "df_merged.shape"
   ]
  },
  {
   "cell_type": "code",
   "execution_count": 5,
   "id": "cb0d2cf1",
   "metadata": {},
   "outputs": [
    {
     "data": {
      "text/html": [
       "<div>\n",
       "<style scoped>\n",
       "    .dataframe tbody tr th:only-of-type {\n",
       "        vertical-align: middle;\n",
       "    }\n",
       "\n",
       "    .dataframe tbody tr th {\n",
       "        vertical-align: top;\n",
       "    }\n",
       "\n",
       "    .dataframe thead th {\n",
       "        text-align: right;\n",
       "    }\n",
       "</style>\n",
       "<table border=\"1\" class=\"dataframe\">\n",
       "  <thead>\n",
       "    <tr style=\"text-align: right;\">\n",
       "      <th></th>\n",
       "      <th>order_id</th>\n",
       "      <th>customer_id</th>\n",
       "      <th>order_number</th>\n",
       "      <th>order_day_of_week</th>\n",
       "      <th>order_hour_of_day</th>\n",
       "      <th>days_since_prior_order</th>\n",
       "      <th>product_id</th>\n",
       "      <th>add_to_cart_order</th>\n",
       "      <th>reordered</th>\n",
       "      <th>product_name</th>\n",
       "      <th>...</th>\n",
       "      <th>order_frequency_flag</th>\n",
       "      <th>first_name</th>\n",
       "      <th>last_name</th>\n",
       "      <th>gender</th>\n",
       "      <th>state</th>\n",
       "      <th>age</th>\n",
       "      <th>date_joined</th>\n",
       "      <th>number_of_dependants</th>\n",
       "      <th>fam_status</th>\n",
       "      <th>income</th>\n",
       "    </tr>\n",
       "  </thead>\n",
       "  <tbody>\n",
       "    <tr>\n",
       "      <th>0</th>\n",
       "      <td>2539329</td>\n",
       "      <td>1</td>\n",
       "      <td>1</td>\n",
       "      <td>2</td>\n",
       "      <td>8</td>\n",
       "      <td>NaN</td>\n",
       "      <td>196</td>\n",
       "      <td>1</td>\n",
       "      <td>0</td>\n",
       "      <td>Soda</td>\n",
       "      <td>...</td>\n",
       "      <td>Non-frequent customer</td>\n",
       "      <td>Linda</td>\n",
       "      <td>Nguyen</td>\n",
       "      <td>Female</td>\n",
       "      <td>Alabama</td>\n",
       "      <td>31</td>\n",
       "      <td>2/17/2019</td>\n",
       "      <td>3</td>\n",
       "      <td>married</td>\n",
       "      <td>40423</td>\n",
       "    </tr>\n",
       "    <tr>\n",
       "      <th>1</th>\n",
       "      <td>2398795</td>\n",
       "      <td>1</td>\n",
       "      <td>2</td>\n",
       "      <td>3</td>\n",
       "      <td>7</td>\n",
       "      <td>15.0</td>\n",
       "      <td>196</td>\n",
       "      <td>1</td>\n",
       "      <td>1</td>\n",
       "      <td>Soda</td>\n",
       "      <td>...</td>\n",
       "      <td>Non-frequent customer</td>\n",
       "      <td>Linda</td>\n",
       "      <td>Nguyen</td>\n",
       "      <td>Female</td>\n",
       "      <td>Alabama</td>\n",
       "      <td>31</td>\n",
       "      <td>2/17/2019</td>\n",
       "      <td>3</td>\n",
       "      <td>married</td>\n",
       "      <td>40423</td>\n",
       "    </tr>\n",
       "    <tr>\n",
       "      <th>2</th>\n",
       "      <td>473747</td>\n",
       "      <td>1</td>\n",
       "      <td>3</td>\n",
       "      <td>3</td>\n",
       "      <td>12</td>\n",
       "      <td>21.0</td>\n",
       "      <td>196</td>\n",
       "      <td>1</td>\n",
       "      <td>1</td>\n",
       "      <td>Soda</td>\n",
       "      <td>...</td>\n",
       "      <td>Non-frequent customer</td>\n",
       "      <td>Linda</td>\n",
       "      <td>Nguyen</td>\n",
       "      <td>Female</td>\n",
       "      <td>Alabama</td>\n",
       "      <td>31</td>\n",
       "      <td>2/17/2019</td>\n",
       "      <td>3</td>\n",
       "      <td>married</td>\n",
       "      <td>40423</td>\n",
       "    </tr>\n",
       "    <tr>\n",
       "      <th>3</th>\n",
       "      <td>2254736</td>\n",
       "      <td>1</td>\n",
       "      <td>4</td>\n",
       "      <td>4</td>\n",
       "      <td>7</td>\n",
       "      <td>29.0</td>\n",
       "      <td>196</td>\n",
       "      <td>1</td>\n",
       "      <td>1</td>\n",
       "      <td>Soda</td>\n",
       "      <td>...</td>\n",
       "      <td>Non-frequent customer</td>\n",
       "      <td>Linda</td>\n",
       "      <td>Nguyen</td>\n",
       "      <td>Female</td>\n",
       "      <td>Alabama</td>\n",
       "      <td>31</td>\n",
       "      <td>2/17/2019</td>\n",
       "      <td>3</td>\n",
       "      <td>married</td>\n",
       "      <td>40423</td>\n",
       "    </tr>\n",
       "    <tr>\n",
       "      <th>4</th>\n",
       "      <td>431534</td>\n",
       "      <td>1</td>\n",
       "      <td>5</td>\n",
       "      <td>4</td>\n",
       "      <td>15</td>\n",
       "      <td>28.0</td>\n",
       "      <td>196</td>\n",
       "      <td>1</td>\n",
       "      <td>1</td>\n",
       "      <td>Soda</td>\n",
       "      <td>...</td>\n",
       "      <td>Non-frequent customer</td>\n",
       "      <td>Linda</td>\n",
       "      <td>Nguyen</td>\n",
       "      <td>Female</td>\n",
       "      <td>Alabama</td>\n",
       "      <td>31</td>\n",
       "      <td>2/17/2019</td>\n",
       "      <td>3</td>\n",
       "      <td>married</td>\n",
       "      <td>40423</td>\n",
       "    </tr>\n",
       "    <tr>\n",
       "      <th>...</th>\n",
       "      <td>...</td>\n",
       "      <td>...</td>\n",
       "      <td>...</td>\n",
       "      <td>...</td>\n",
       "      <td>...</td>\n",
       "      <td>...</td>\n",
       "      <td>...</td>\n",
       "      <td>...</td>\n",
       "      <td>...</td>\n",
       "      <td>...</td>\n",
       "      <td>...</td>\n",
       "      <td>...</td>\n",
       "      <td>...</td>\n",
       "      <td>...</td>\n",
       "      <td>...</td>\n",
       "      <td>...</td>\n",
       "      <td>...</td>\n",
       "      <td>...</td>\n",
       "      <td>...</td>\n",
       "      <td>...</td>\n",
       "      <td>...</td>\n",
       "    </tr>\n",
       "    <tr>\n",
       "      <th>32404854</th>\n",
       "      <td>156685</td>\n",
       "      <td>106143</td>\n",
       "      <td>26</td>\n",
       "      <td>4</td>\n",
       "      <td>23</td>\n",
       "      <td>5.0</td>\n",
       "      <td>19675</td>\n",
       "      <td>1</td>\n",
       "      <td>1</td>\n",
       "      <td>Organic Raspberry Black Tea</td>\n",
       "      <td>...</td>\n",
       "      <td>Frequent customer</td>\n",
       "      <td>Gerald</td>\n",
       "      <td>Yates</td>\n",
       "      <td>Male</td>\n",
       "      <td>Hawaii</td>\n",
       "      <td>25</td>\n",
       "      <td>5/26/2017</td>\n",
       "      <td>0</td>\n",
       "      <td>single</td>\n",
       "      <td>53755</td>\n",
       "    </tr>\n",
       "    <tr>\n",
       "      <th>32404855</th>\n",
       "      <td>484769</td>\n",
       "      <td>66343</td>\n",
       "      <td>1</td>\n",
       "      <td>6</td>\n",
       "      <td>11</td>\n",
       "      <td>NaN</td>\n",
       "      <td>47210</td>\n",
       "      <td>1</td>\n",
       "      <td>0</td>\n",
       "      <td>Fresh Farmed Tilapia Fillet</td>\n",
       "      <td>...</td>\n",
       "      <td>Non-frequent customer</td>\n",
       "      <td>Jacqueline</td>\n",
       "      <td>Arroyo</td>\n",
       "      <td>Female</td>\n",
       "      <td>Tennessee</td>\n",
       "      <td>22</td>\n",
       "      <td>9/12/2017</td>\n",
       "      <td>3</td>\n",
       "      <td>married</td>\n",
       "      <td>46151</td>\n",
       "    </tr>\n",
       "    <tr>\n",
       "      <th>32404856</th>\n",
       "      <td>1561557</td>\n",
       "      <td>66343</td>\n",
       "      <td>2</td>\n",
       "      <td>1</td>\n",
       "      <td>11</td>\n",
       "      <td>30.0</td>\n",
       "      <td>47210</td>\n",
       "      <td>1</td>\n",
       "      <td>1</td>\n",
       "      <td>Fresh Farmed Tilapia Fillet</td>\n",
       "      <td>...</td>\n",
       "      <td>Non-frequent customer</td>\n",
       "      <td>Jacqueline</td>\n",
       "      <td>Arroyo</td>\n",
       "      <td>Female</td>\n",
       "      <td>Tennessee</td>\n",
       "      <td>22</td>\n",
       "      <td>9/12/2017</td>\n",
       "      <td>3</td>\n",
       "      <td>married</td>\n",
       "      <td>46151</td>\n",
       "    </tr>\n",
       "    <tr>\n",
       "      <th>32404857</th>\n",
       "      <td>276317</td>\n",
       "      <td>66343</td>\n",
       "      <td>3</td>\n",
       "      <td>6</td>\n",
       "      <td>15</td>\n",
       "      <td>19.0</td>\n",
       "      <td>47210</td>\n",
       "      <td>1</td>\n",
       "      <td>1</td>\n",
       "      <td>Fresh Farmed Tilapia Fillet</td>\n",
       "      <td>...</td>\n",
       "      <td>Non-frequent customer</td>\n",
       "      <td>Jacqueline</td>\n",
       "      <td>Arroyo</td>\n",
       "      <td>Female</td>\n",
       "      <td>Tennessee</td>\n",
       "      <td>22</td>\n",
       "      <td>9/12/2017</td>\n",
       "      <td>3</td>\n",
       "      <td>married</td>\n",
       "      <td>46151</td>\n",
       "    </tr>\n",
       "    <tr>\n",
       "      <th>32404858</th>\n",
       "      <td>2922475</td>\n",
       "      <td>66343</td>\n",
       "      <td>4</td>\n",
       "      <td>1</td>\n",
       "      <td>12</td>\n",
       "      <td>30.0</td>\n",
       "      <td>47210</td>\n",
       "      <td>1</td>\n",
       "      <td>1</td>\n",
       "      <td>Fresh Farmed Tilapia Fillet</td>\n",
       "      <td>...</td>\n",
       "      <td>Non-frequent customer</td>\n",
       "      <td>Jacqueline</td>\n",
       "      <td>Arroyo</td>\n",
       "      <td>Female</td>\n",
       "      <td>Tennessee</td>\n",
       "      <td>22</td>\n",
       "      <td>9/12/2017</td>\n",
       "      <td>3</td>\n",
       "      <td>married</td>\n",
       "      <td>46151</td>\n",
       "    </tr>\n",
       "  </tbody>\n",
       "</table>\n",
       "<p>32404859 rows × 32 columns</p>\n",
       "</div>"
      ],
      "text/plain": [
       "          order_id  customer_id  order_number  order_day_of_week  \\\n",
       "0          2539329            1             1                  2   \n",
       "1          2398795            1             2                  3   \n",
       "2           473747            1             3                  3   \n",
       "3          2254736            1             4                  4   \n",
       "4           431534            1             5                  4   \n",
       "...            ...          ...           ...                ...   \n",
       "32404854    156685       106143            26                  4   \n",
       "32404855    484769        66343             1                  6   \n",
       "32404856   1561557        66343             2                  1   \n",
       "32404857    276317        66343             3                  6   \n",
       "32404858   2922475        66343             4                  1   \n",
       "\n",
       "          order_hour_of_day  days_since_prior_order  product_id  \\\n",
       "0                         8                     NaN         196   \n",
       "1                         7                    15.0         196   \n",
       "2                        12                    21.0         196   \n",
       "3                         7                    29.0         196   \n",
       "4                        15                    28.0         196   \n",
       "...                     ...                     ...         ...   \n",
       "32404854                 23                     5.0       19675   \n",
       "32404855                 11                     NaN       47210   \n",
       "32404856                 11                    30.0       47210   \n",
       "32404857                 15                    19.0       47210   \n",
       "32404858                 12                    30.0       47210   \n",
       "\n",
       "          add_to_cart_order  reordered                 product_name  ...  \\\n",
       "0                         1          0                         Soda  ...   \n",
       "1                         1          1                         Soda  ...   \n",
       "2                         1          1                         Soda  ...   \n",
       "3                         1          1                         Soda  ...   \n",
       "4                         1          1                         Soda  ...   \n",
       "...                     ...        ...                          ...  ...   \n",
       "32404854                  1          1  Organic Raspberry Black Tea  ...   \n",
       "32404855                  1          0  Fresh Farmed Tilapia Fillet  ...   \n",
       "32404856                  1          1  Fresh Farmed Tilapia Fillet  ...   \n",
       "32404857                  1          1  Fresh Farmed Tilapia Fillet  ...   \n",
       "32404858                  1          1  Fresh Farmed Tilapia Fillet  ...   \n",
       "\n",
       "           order_frequency_flag  first_name  last_name  gender      state age  \\\n",
       "0         Non-frequent customer       Linda     Nguyen  Female    Alabama  31   \n",
       "1         Non-frequent customer       Linda     Nguyen  Female    Alabama  31   \n",
       "2         Non-frequent customer       Linda     Nguyen  Female    Alabama  31   \n",
       "3         Non-frequent customer       Linda     Nguyen  Female    Alabama  31   \n",
       "4         Non-frequent customer       Linda     Nguyen  Female    Alabama  31   \n",
       "...                         ...         ...        ...     ...        ...  ..   \n",
       "32404854      Frequent customer      Gerald      Yates    Male     Hawaii  25   \n",
       "32404855  Non-frequent customer  Jacqueline     Arroyo  Female  Tennessee  22   \n",
       "32404856  Non-frequent customer  Jacqueline     Arroyo  Female  Tennessee  22   \n",
       "32404857  Non-frequent customer  Jacqueline     Arroyo  Female  Tennessee  22   \n",
       "32404858  Non-frequent customer  Jacqueline     Arroyo  Female  Tennessee  22   \n",
       "\n",
       "         date_joined  number_of_dependants fam_status  income  \n",
       "0          2/17/2019                     3    married   40423  \n",
       "1          2/17/2019                     3    married   40423  \n",
       "2          2/17/2019                     3    married   40423  \n",
       "3          2/17/2019                     3    married   40423  \n",
       "4          2/17/2019                     3    married   40423  \n",
       "...              ...                   ...        ...     ...  \n",
       "32404854   5/26/2017                     0     single   53755  \n",
       "32404855   9/12/2017                     3    married   46151  \n",
       "32404856   9/12/2017                     3    married   46151  \n",
       "32404857   9/12/2017                     3    married   46151  \n",
       "32404858   9/12/2017                     3    married   46151  \n",
       "\n",
       "[32404859 rows x 32 columns]"
      ]
     },
     "execution_count": 5,
     "metadata": {},
     "output_type": "execute_result"
    }
   ],
   "source": [
    "df_merged"
   ]
  },
  {
   "cell_type": "code",
   "execution_count": 6,
   "id": "feed7ecc",
   "metadata": {},
   "outputs": [
    {
     "data": {
      "image/png": "[encoded data removed]",
      "text/plain": [
       "<Figure size 432x288 with 1 Axes>"
      ]
     },
     "metadata": {
      "needs_background": "light"
     },
     "output_type": "display_data"
    }
   ],
   "source": [
    "#Creating a bar chart\n",
    "bar=df_merged['order_day_of_week'].value_counts().plot.bar(color='grey')"
   ]
  },
  {
   "cell_type": "code",
   "execution_count": 7,
   "id": "8b95e825",
   "metadata": {},
   "outputs": [],
   "source": [
    "#Saving the bar chart\n",
    "bar.figure.savefig(os.path.join(path, '04 Analysis', 'Visualizations', 'bar_orders_day.png'))"
   ]
  },
  {
   "cell_type": "code",
   "execution_count": 8,
   "id": "611d6c6d",
   "metadata": {},
   "outputs": [
    {
     "data": {
      "image/png": "[encoded data removed]",
      "text/plain": [
       "<Figure size 432x288 with 1 Axes>"
      ]
     },
     "metadata": {
      "needs_background": "light"
     },
     "output_type": "display_data"
    }
   ],
   "source": [
    "#Creating a histogram\n",
    "hist=df_merged['prices'].plot.hist(bins=25)"
   ]
  },
  {
   "cell_type": "code",
   "execution_count": 9,
   "id": "08366cb4",
   "metadata": {},
   "outputs": [
    {
     "data": {
      "text/plain": [
       "99999.0"
      ]
     },
     "execution_count": 9,
     "metadata": {},
     "output_type": "execute_result"
    }
   ],
   "source": [
    "df_merged['prices'].max()"
   ]
  },
  {
   "cell_type": "code",
   "execution_count": 10,
   "id": "94b31cde",
   "metadata": {},
   "outputs": [
    {
     "data": {
      "text/plain": [
       "<AxesSubplot:xlabel='prices', ylabel='prices'>"
      ]
     },
     "execution_count": 10,
     "metadata": {},
     "output_type": "execute_result"
    },
    {
     "data": {
      "image/png": "[encoded data removed]",
      "text/plain": [
       "<Figure size 432x288 with 1 Axes>"
      ]
     },
     "metadata": {
      "needs_background": "light"
     },
     "output_type": "display_data"
    }
   ],
   "source": [
    "#Creating a scatterplot\n",
    "sns.scatterplot(x='prices', y='prices', data=df_merged)"
   ]
  },
  {
   "cell_type": "code",
   "execution_count": 11,
   "id": "121c09e4",
   "metadata": {},
   "outputs": [
    {
     "data": {
      "text/html": [
       "<div>\n",
       "<style scoped>\n",
       "    .dataframe tbody tr th:only-of-type {\n",
       "        vertical-align: middle;\n",
       "    }\n",
       "\n",
       "    .dataframe tbody tr th {\n",
       "        vertical-align: top;\n",
       "    }\n",
       "\n",
       "    .dataframe thead th {\n",
       "        text-align: right;\n",
       "    }\n",
       "</style>\n",
       "<table border=\"1\" class=\"dataframe\">\n",
       "  <thead>\n",
       "    <tr style=\"text-align: right;\">\n",
       "      <th></th>\n",
       "      <th>order_id</th>\n",
       "      <th>customer_id</th>\n",
       "      <th>order_number</th>\n",
       "      <th>order_day_of_week</th>\n",
       "      <th>order_hour_of_day</th>\n",
       "      <th>days_since_prior_order</th>\n",
       "      <th>product_id</th>\n",
       "      <th>add_to_cart_order</th>\n",
       "      <th>reordered</th>\n",
       "      <th>product_name</th>\n",
       "      <th>...</th>\n",
       "      <th>order_frequency_flag</th>\n",
       "      <th>first_name</th>\n",
       "      <th>last_name</th>\n",
       "      <th>gender</th>\n",
       "      <th>state</th>\n",
       "      <th>age</th>\n",
       "      <th>date_joined</th>\n",
       "      <th>number_of_dependants</th>\n",
       "      <th>fam_status</th>\n",
       "      <th>income</th>\n",
       "    </tr>\n",
       "  </thead>\n",
       "  <tbody>\n",
       "    <tr>\n",
       "      <th>7805</th>\n",
       "      <td>1435153</td>\n",
       "      <td>1519</td>\n",
       "      <td>26</td>\n",
       "      <td>2</td>\n",
       "      <td>11</td>\n",
       "      <td>6.0</td>\n",
       "      <td>21553</td>\n",
       "      <td>15</td>\n",
       "      <td>0</td>\n",
       "      <td>Lowfat 2% Milkfat Cottage Cheese</td>\n",
       "      <td>...</td>\n",
       "      <td>Frequent customer</td>\n",
       "      <td>Craig</td>\n",
       "      <td>Clark</td>\n",
       "      <td>Male</td>\n",
       "      <td>Rhode Island</td>\n",
       "      <td>68</td>\n",
       "      <td>3/4/2020</td>\n",
       "      <td>0</td>\n",
       "      <td>divorced/widowed</td>\n",
       "      <td>177864</td>\n",
       "    </tr>\n",
       "    <tr>\n",
       "      <th>7806</th>\n",
       "      <td>1066435</td>\n",
       "      <td>1519</td>\n",
       "      <td>32</td>\n",
       "      <td>3</td>\n",
       "      <td>10</td>\n",
       "      <td>5.0</td>\n",
       "      <td>21553</td>\n",
       "      <td>28</td>\n",
       "      <td>1</td>\n",
       "      <td>Lowfat 2% Milkfat Cottage Cheese</td>\n",
       "      <td>...</td>\n",
       "      <td>Frequent customer</td>\n",
       "      <td>Craig</td>\n",
       "      <td>Clark</td>\n",
       "      <td>Male</td>\n",
       "      <td>Rhode Island</td>\n",
       "      <td>68</td>\n",
       "      <td>3/4/2020</td>\n",
       "      <td>0</td>\n",
       "      <td>divorced/widowed</td>\n",
       "      <td>177864</td>\n",
       "    </tr>\n",
       "    <tr>\n",
       "      <th>15143</th>\n",
       "      <td>1697208</td>\n",
       "      <td>2409</td>\n",
       "      <td>33</td>\n",
       "      <td>1</td>\n",
       "      <td>19</td>\n",
       "      <td>5.0</td>\n",
       "      <td>21553</td>\n",
       "      <td>1</td>\n",
       "      <td>0</td>\n",
       "      <td>Lowfat 2% Milkfat Cottage Cheese</td>\n",
       "      <td>...</td>\n",
       "      <td>Frequent customer</td>\n",
       "      <td>Nicole</td>\n",
       "      <td>Odonnell</td>\n",
       "      <td>Female</td>\n",
       "      <td>Hawaii</td>\n",
       "      <td>55</td>\n",
       "      <td>11/11/2018</td>\n",
       "      <td>2</td>\n",
       "      <td>married</td>\n",
       "      <td>230074</td>\n",
       "    </tr>\n",
       "    <tr>\n",
       "      <th>20264</th>\n",
       "      <td>965345</td>\n",
       "      <td>3531</td>\n",
       "      <td>27</td>\n",
       "      <td>2</td>\n",
       "      <td>19</td>\n",
       "      <td>8.0</td>\n",
       "      <td>33664</td>\n",
       "      <td>2</td>\n",
       "      <td>0</td>\n",
       "      <td>2 % Reduced Fat  Milk</td>\n",
       "      <td>...</td>\n",
       "      <td>Frequent customer</td>\n",
       "      <td>Alice</td>\n",
       "      <td>Compton</td>\n",
       "      <td>Female</td>\n",
       "      <td>Hawaii</td>\n",
       "      <td>80</td>\n",
       "      <td>10/6/2019</td>\n",
       "      <td>2</td>\n",
       "      <td>married</td>\n",
       "      <td>233776</td>\n",
       "    </tr>\n",
       "    <tr>\n",
       "      <th>20497</th>\n",
       "      <td>2943740</td>\n",
       "      <td>3793</td>\n",
       "      <td>1</td>\n",
       "      <td>2</td>\n",
       "      <td>9</td>\n",
       "      <td>NaN</td>\n",
       "      <td>21553</td>\n",
       "      <td>3</td>\n",
       "      <td>0</td>\n",
       "      <td>Lowfat 2% Milkfat Cottage Cheese</td>\n",
       "      <td>...</td>\n",
       "      <td>Regular customer</td>\n",
       "      <td>Jerry</td>\n",
       "      <td>Allen</td>\n",
       "      <td>Male</td>\n",
       "      <td>Louisiana</td>\n",
       "      <td>59</td>\n",
       "      <td>8/23/2019</td>\n",
       "      <td>3</td>\n",
       "      <td>married</td>\n",
       "      <td>182933</td>\n",
       "    </tr>\n",
       "    <tr>\n",
       "      <th>...</th>\n",
       "      <td>...</td>\n",
       "      <td>...</td>\n",
       "      <td>...</td>\n",
       "      <td>...</td>\n",
       "      <td>...</td>\n",
       "      <td>...</td>\n",
       "      <td>...</td>\n",
       "      <td>...</td>\n",
       "      <td>...</td>\n",
       "      <td>...</td>\n",
       "      <td>...</td>\n",
       "      <td>...</td>\n",
       "      <td>...</td>\n",
       "      <td>...</td>\n",
       "      <td>...</td>\n",
       "      <td>...</td>\n",
       "      <td>...</td>\n",
       "      <td>...</td>\n",
       "      <td>...</td>\n",
       "      <td>...</td>\n",
       "      <td>...</td>\n",
       "    </tr>\n",
       "    <tr>\n",
       "      <th>32303799</th>\n",
       "      <td>3265389</td>\n",
       "      <td>51346</td>\n",
       "      <td>4</td>\n",
       "      <td>1</td>\n",
       "      <td>17</td>\n",
       "      <td>13.0</td>\n",
       "      <td>33664</td>\n",
       "      <td>2</td>\n",
       "      <td>1</td>\n",
       "      <td>2 % Reduced Fat  Milk</td>\n",
       "      <td>...</td>\n",
       "      <td>Regular customer</td>\n",
       "      <td>NaN</td>\n",
       "      <td>Gould</td>\n",
       "      <td>Male</td>\n",
       "      <td>Rhode Island</td>\n",
       "      <td>58</td>\n",
       "      <td>1/25/2019</td>\n",
       "      <td>1</td>\n",
       "      <td>married</td>\n",
       "      <td>207497</td>\n",
       "    </tr>\n",
       "    <tr>\n",
       "      <th>32307882</th>\n",
       "      <td>1179092</td>\n",
       "      <td>131671</td>\n",
       "      <td>12</td>\n",
       "      <td>4</td>\n",
       "      <td>9</td>\n",
       "      <td>15.0</td>\n",
       "      <td>33664</td>\n",
       "      <td>1</td>\n",
       "      <td>0</td>\n",
       "      <td>2 % Reduced Fat  Milk</td>\n",
       "      <td>...</td>\n",
       "      <td>Regular customer</td>\n",
       "      <td>Diana</td>\n",
       "      <td>Hansen</td>\n",
       "      <td>Female</td>\n",
       "      <td>Rhode Island</td>\n",
       "      <td>35</td>\n",
       "      <td>8/4/2018</td>\n",
       "      <td>0</td>\n",
       "      <td>single</td>\n",
       "      <td>86490</td>\n",
       "    </tr>\n",
       "    <tr>\n",
       "      <th>32310810</th>\n",
       "      <td>1226705</td>\n",
       "      <td>39667</td>\n",
       "      <td>7</td>\n",
       "      <td>2</td>\n",
       "      <td>15</td>\n",
       "      <td>20.0</td>\n",
       "      <td>33664</td>\n",
       "      <td>14</td>\n",
       "      <td>0</td>\n",
       "      <td>2 % Reduced Fat  Milk</td>\n",
       "      <td>...</td>\n",
       "      <td>Non-frequent customer</td>\n",
       "      <td>Johnny</td>\n",
       "      <td>Colon</td>\n",
       "      <td>Male</td>\n",
       "      <td>Rhode Island</td>\n",
       "      <td>78</td>\n",
       "      <td>5/8/2019</td>\n",
       "      <td>2</td>\n",
       "      <td>married</td>\n",
       "      <td>195077</td>\n",
       "    </tr>\n",
       "    <tr>\n",
       "      <th>32330048</th>\n",
       "      <td>3000037</td>\n",
       "      <td>95105</td>\n",
       "      <td>2</td>\n",
       "      <td>4</td>\n",
       "      <td>19</td>\n",
       "      <td>22.0</td>\n",
       "      <td>33664</td>\n",
       "      <td>4</td>\n",
       "      <td>0</td>\n",
       "      <td>2 % Reduced Fat  Milk</td>\n",
       "      <td>...</td>\n",
       "      <td>Frequent customer</td>\n",
       "      <td>Catherine</td>\n",
       "      <td>Browning</td>\n",
       "      <td>Female</td>\n",
       "      <td>South Carolina</td>\n",
       "      <td>48</td>\n",
       "      <td>1/18/2017</td>\n",
       "      <td>2</td>\n",
       "      <td>married</td>\n",
       "      <td>398880</td>\n",
       "    </tr>\n",
       "    <tr>\n",
       "      <th>32330049</th>\n",
       "      <td>2741225</td>\n",
       "      <td>95105</td>\n",
       "      <td>4</td>\n",
       "      <td>5</td>\n",
       "      <td>12</td>\n",
       "      <td>2.0</td>\n",
       "      <td>33664</td>\n",
       "      <td>3</td>\n",
       "      <td>1</td>\n",
       "      <td>2 % Reduced Fat  Milk</td>\n",
       "      <td>...</td>\n",
       "      <td>Frequent customer</td>\n",
       "      <td>Catherine</td>\n",
       "      <td>Browning</td>\n",
       "      <td>Female</td>\n",
       "      <td>South Carolina</td>\n",
       "      <td>48</td>\n",
       "      <td>1/18/2017</td>\n",
       "      <td>2</td>\n",
       "      <td>married</td>\n",
       "      <td>398880</td>\n",
       "    </tr>\n",
       "  </tbody>\n",
       "</table>\n",
       "<p>5127 rows × 32 columns</p>\n",
       "</div>"
      ],
      "text/plain": [
       "          order_id  customer_id  order_number  order_day_of_week  \\\n",
       "7805       1435153         1519            26                  2   \n",
       "7806       1066435         1519            32                  3   \n",
       "15143      1697208         2409            33                  1   \n",
       "20264       965345         3531            27                  2   \n",
       "20497      2943740         3793             1                  2   \n",
       "...            ...          ...           ...                ...   \n",
       "32303799   3265389        51346             4                  1   \n",
       "32307882   1179092       131671            12                  4   \n",
       "32310810   1226705        39667             7                  2   \n",
       "32330048   3000037        95105             2                  4   \n",
       "32330049   2741225        95105             4                  5   \n",
       "\n",
       "          order_hour_of_day  days_since_prior_order  product_id  \\\n",
       "7805                     11                     6.0       21553   \n",
       "7806                     10                     5.0       21553   \n",
       "15143                    19                     5.0       21553   \n",
       "20264                    19                     8.0       33664   \n",
       "20497                     9                     NaN       21553   \n",
       "...                     ...                     ...         ...   \n",
       "32303799                 17                    13.0       33664   \n",
       "32307882                  9                    15.0       33664   \n",
       "32310810                 15                    20.0       33664   \n",
       "32330048                 19                    22.0       33664   \n",
       "32330049                 12                     2.0       33664   \n",
       "\n",
       "          add_to_cart_order  reordered                      product_name  ...  \\\n",
       "7805                     15          0  Lowfat 2% Milkfat Cottage Cheese  ...   \n",
       "7806                     28          1  Lowfat 2% Milkfat Cottage Cheese  ...   \n",
       "15143                     1          0  Lowfat 2% Milkfat Cottage Cheese  ...   \n",
       "20264                     2          0             2 % Reduced Fat  Milk  ...   \n",
       "20497                     3          0  Lowfat 2% Milkfat Cottage Cheese  ...   \n",
       "...                     ...        ...                               ...  ...   \n",
       "32303799                  2          1             2 % Reduced Fat  Milk  ...   \n",
       "32307882                  1          0             2 % Reduced Fat  Milk  ...   \n",
       "32310810                 14          0             2 % Reduced Fat  Milk  ...   \n",
       "32330048                  4          0             2 % Reduced Fat  Milk  ...   \n",
       "32330049                  3          1             2 % Reduced Fat  Milk  ...   \n",
       "\n",
       "           order_frequency_flag  first_name  last_name  gender  \\\n",
       "7805          Frequent customer       Craig      Clark    Male   \n",
       "7806          Frequent customer       Craig      Clark    Male   \n",
       "15143         Frequent customer      Nicole   Odonnell  Female   \n",
       "20264         Frequent customer       Alice    Compton  Female   \n",
       "20497          Regular customer       Jerry      Allen    Male   \n",
       "...                         ...         ...        ...     ...   \n",
       "32303799       Regular customer         NaN      Gould    Male   \n",
       "32307882       Regular customer       Diana     Hansen  Female   \n",
       "32310810  Non-frequent customer      Johnny      Colon    Male   \n",
       "32330048      Frequent customer   Catherine   Browning  Female   \n",
       "32330049      Frequent customer   Catherine   Browning  Female   \n",
       "\n",
       "                   state age date_joined  number_of_dependants  \\\n",
       "7805        Rhode Island  68    3/4/2020                     0   \n",
       "7806        Rhode Island  68    3/4/2020                     0   \n",
       "15143             Hawaii  55  11/11/2018                     2   \n",
       "20264             Hawaii  80   10/6/2019                     2   \n",
       "20497          Louisiana  59   8/23/2019                     3   \n",
       "...                  ...  ..         ...                   ...   \n",
       "32303799    Rhode Island  58   1/25/2019                     1   \n",
       "32307882    Rhode Island  35    8/4/2018                     0   \n",
       "32310810    Rhode Island  78    5/8/2019                     2   \n",
       "32330048  South Carolina  48   1/18/2017                     2   \n",
       "32330049  South Carolina  48   1/18/2017                     2   \n",
       "\n",
       "                fam_status  income  \n",
       "7805      divorced/widowed  177864  \n",
       "7806      divorced/widowed  177864  \n",
       "15143              married  230074  \n",
       "20264              married  233776  \n",
       "20497              married  182933  \n",
       "...                    ...     ...  \n",
       "32303799           married  207497  \n",
       "32307882            single   86490  \n",
       "32310810           married  195077  \n",
       "32330048           married  398880  \n",
       "32330049           married  398880  \n",
       "\n",
       "[5127 rows x 32 columns]"
      ]
     },
     "execution_count": 11,
     "metadata": {},
     "output_type": "execute_result"
    }
   ],
   "source": [
    "#Prices over 100\n",
    "df_merged.loc[df_merged['prices']>100]"
   ]
  },
  {
   "cell_type": "code",
   "execution_count": 12,
   "id": "f3fb0aff",
   "metadata": {},
   "outputs": [],
   "source": [
    "pd.options.display.max_columns=None"
   ]
  },
  {
   "cell_type": "code",
   "execution_count": 13,
   "id": "cbdafd16",
   "metadata": {},
   "outputs": [],
   "source": [
    "#Mark high prices as missing values\n",
    "df_merged.loc[df_merged['prices']>100, 'prices']=np.NaN"
   ]
  },
  {
   "cell_type": "code",
   "execution_count": 14,
   "id": "ee0e9c70",
   "metadata": {},
   "outputs": [
    {
     "data": {
      "text/plain": [
       "25.0"
      ]
     },
     "execution_count": 14,
     "metadata": {},
     "output_type": "execute_result"
    }
   ],
   "source": [
    "df_merged['prices'].max()"
   ]
  },
  {
   "cell_type": "code",
   "execution_count": 15,
   "id": "59f42f46",
   "metadata": {},
   "outputs": [
    {
     "data": {
      "image/png": "[encoded data removed]",
      "text/plain": [
       "<Figure size 432x288 with 1 Axes>"
      ]
     },
     "metadata": {
      "needs_background": "light"
     },
     "output_type": "display_data"
    }
   ],
   "source": [
    "#Re-creating a histogram\n",
    "hist=df_merged['prices'].plot.hist(bins=25)"
   ]
  },
  {
   "cell_type": "code",
   "execution_count": 16,
   "id": "ce3dc916",
   "metadata": {},
   "outputs": [],
   "source": [
    "hist.figure.savefig(os.path.join(path, '04 Analysis', 'Visualizations', 'histogram_prices.png'))"
   ]
  },
  {
   "cell_type": "code",
   "execution_count": 3,
   "id": "82fd95d8",
   "metadata": {},
   "outputs": [],
   "source": [
    "#Data sampling\n",
    "np.random.seed(4)\n",
    "dev=np.random.rand(len(df_merged))<=0.7\n",
    "big=df_merged[dev]\n",
    "small=df_merged[~dev]"
   ]
  },
  {
   "cell_type": "code",
   "execution_count": 4,
   "id": "3de37628",
   "metadata": {
    "scrolled": true
   },
   "outputs": [
    {
     "data": {
      "image/png": "[encoded data removed]",
      "text/plain": [
       "<Figure size 432x288 with 1 Axes>"
      ]
     },
     "metadata": {
      "needs_background": "light"
     },
     "output_type": "display_data"
    }
   ],
   "source": [
    "#Creating a line chart\n",
    "line=sns.lineplot(data=small, x='order_day_of_week', y='prices')"
   ]
  },
  {
   "cell_type": "code",
   "execution_count": 5,
   "id": "b05f2255",
   "metadata": {},
   "outputs": [],
   "source": [
    "#Exporting the line chart\n",
    "line.figure.savefig(os.path.join(path, '04 Analysis', 'Visualizations', 'line_day_week.png'))"
   ]
  },
  {
   "cell_type": "markdown",
   "id": "3b167ab3",
   "metadata": {},
   "source": [
    " # 03. Histogram of the “order_hour_of_day” column"
   ]
  },
  {
   "cell_type": "code",
   "execution_count": 19,
   "id": "ebc14b86",
   "metadata": {},
   "outputs": [
    {
     "data": {
      "image/png": "[encoded data removed]",
      "text/plain": [
       "<Figure size 432x288 with 1 Axes>"
      ]
     },
     "metadata": {
      "needs_background": "light"
     },
     "output_type": "display_data"
    }
   ],
   "source": [
    "#Creating a histogram\n",
    "hist_2=df_merged['order_hour_of_day'].plot.hist(bins=24)"
   ]
  },
  {
   "cell_type": "code",
   "execution_count": 20,
   "id": "f4bc139d",
   "metadata": {},
   "outputs": [
    {
     "data": {
      "text/plain": [
       "10    2761760\n",
       "11    2736140\n",
       "14    2689136\n",
       "15    2662144\n",
       "13    2660954\n",
       "12    2618532\n",
       "16    2535202\n",
       "9     2454203\n",
       "17    2087654\n",
       "8     1718118\n",
       "18    1636502\n",
       "19    1258305\n",
       "20     976156\n",
       "7      891054\n",
       "21     795637\n",
       "22     634225\n",
       "23     402316\n",
       "6      290493\n",
       "0      218769\n",
       "1      115700\n",
       "5       87961\n",
       "2       69375\n",
       "4       53242\n",
       "3       51281\n",
       "Name: order_hour_of_day, dtype: int64"
      ]
     },
     "execution_count": 20,
     "metadata": {},
     "output_type": "execute_result"
    }
   ],
   "source": [
    "df_merged['order_hour_of_day'].value_counts()"
   ]
  },
  {
   "cell_type": "markdown",
   "id": "9c53f379",
   "metadata": {},
   "source": [
    "###  Here we can see a histogram which demonstrates the number of orders placed for each hour (24 hours).  We can easily notice that most of the orders are placed between 10 am and 4 pm."
   ]
  },
  {
   "cell_type": "code",
   "execution_count": 21,
   "id": "2e77f575",
   "metadata": {},
   "outputs": [],
   "source": [
    "#Saving the histogram\n",
    "hist_2.figure.savefig(os.path.join(path, '04 Analysis', 'Visualizations', 'hist_order_hours.png'))"
   ]
  },
  {
   "cell_type": "markdown",
   "id": "ba03b471",
   "metadata": {},
   "source": [
    "# 04. Bar chart from the “loyalty_flag” column"
   ]
  },
  {
   "cell_type": "code",
   "execution_count": 22,
   "id": "8ab0e0ec",
   "metadata": {},
   "outputs": [
    {
     "data": {
      "image/png": "[encoded data removed]",
      "text/plain": [
       "<Figure size 432x288 with 1 Axes>"
      ]
     },
     "metadata": {
      "needs_background": "light"
     },
     "output_type": "display_data"
    }
   ],
   "source": [
    "#CReating a bar chart\n",
    "bar_2=df_merged['loyalty_flag'].value_counts().plot.bar(color=['#004d99', '#0066cc', '#66b3ff'])"
   ]
  },
  {
   "cell_type": "markdown",
   "id": "e3998e89",
   "metadata": {},
   "source": [
    "### Here we can notice that the largest number of orders are made by regular customers"
   ]
  },
  {
   "cell_type": "code",
   "execution_count": 23,
   "id": "1e059108",
   "metadata": {},
   "outputs": [],
   "source": [
    "#saving the bar chart\n",
    "bar_2.figure.savefig(os.path.join(path, '04 Analysis', 'Visualizations', 'loyalty_flag_barchart.png'))"
   ]
  },
  {
   "cell_type": "markdown",
   "id": "f6c4ba12",
   "metadata": {},
   "source": [
    "# 05. Line chart of prices to  check the difference in expenditure"
   ]
  },
  {
   "cell_type": "code",
   "execution_count": 25,
   "id": "4227951c",
   "metadata": {},
   "outputs": [],
   "source": [
    "#Creating a sample\n",
    "np.random.seed(4)\n",
    "dev=np.random.rand(len(df_merged))<=0.7\n",
    "big=df_merged[dev]\n",
    "small=df_merged[~dev]"
   ]
  },
  {
   "cell_type": "code",
   "execution_count": 26,
   "id": "19d96cfe",
   "metadata": {},
   "outputs": [
    {
     "data": {
      "image/png": "[encoded data removed]",
      "text/plain": [
       "<Figure size 432x288 with 1 Axes>"
      ]
     },
     "metadata": {
      "needs_background": "light"
     },
     "output_type": "display_data"
    }
   ],
   "source": [
    "#Creating a line chart\n",
    "line_2=sns.lineplot(data=small, x='order_hour_of_day', y='prices')"
   ]
  },
  {
   "cell_type": "markdown",
   "id": "8fad80c9",
   "metadata": {},
   "source": [
    "### Looking at the line chart, we can see that there are ndeed, difference in expenditure depending on the hour of day."
   ]
  },
  {
   "cell_type": "code",
   "execution_count": 27,
   "id": "2816cab3",
   "metadata": {},
   "outputs": [],
   "source": [
    "#Exporting the line chart\n",
    "line_2.figure.savefig(os.path.join(path, '04 Analysis', 'Visualizations', 'order_price_linechart.png'))"
   ]
  },
  {
   "cell_type": "markdown",
   "id": "18a16ff8",
   "metadata": {},
   "source": [
    "# 06.  Exploratory analysis of customer demographics "
   ]
  },
  {
   "cell_type": "code",
   "execution_count": 28,
   "id": "a892a046",
   "metadata": {},
   "outputs": [
    {
     "data": {
      "image/png": "[encoded data removed]",
      "text/plain": [
       "<Figure size 432x288 with 1 Axes>"
      ]
     },
     "metadata": {
      "needs_background": "light"
     },
     "output_type": "display_data"
    }
   ],
   "source": [
    "#Linechart of age and number of dependants\n",
    "line_3=sns.lineplot(data=small, x='age', y='number_of_dependants')"
   ]
  },
  {
   "cell_type": "markdown",
   "id": "a5a65fcd",
   "metadata": {},
   "source": [
    "### The line chart here shows the relationship between customers' age and number of dependants. We can't really observe any  correlation between these 2 variables."
   ]
  },
  {
   "cell_type": "code",
   "execution_count": 29,
   "id": "e473814b",
   "metadata": {},
   "outputs": [],
   "source": [
    "#Exporting the linechart\n",
    "line_3.figure.savefig(os.path.join(path, '04 Analysis', 'Visualizations', 'age_dependants_linechart.png'))"
   ]
  },
  {
   "cell_type": "code",
   "execution_count": 30,
   "id": "19ab94f8",
   "metadata": {},
   "outputs": [
    {
     "data": {
      "image/png": "[encoded data removed]",
      "text/plain": [
       "<Figure size 432x288 with 1 Axes>"
      ]
     },
     "metadata": {
      "needs_background": "light"
     },
     "output_type": "display_data"
    }
   ],
   "source": [
    "#Scatterplot of age and specding power(income)\n",
    "scatter=sns.scatterplot(data=df_merged, x='age', y='income')"
   ]
  },
  {
   "cell_type": "markdown",
   "id": "3705f716",
   "metadata": {},
   "source": [
    "### The chart here demostrates the relationship between age and income. And we can clearly see that customers younger than 40 have a maximum income of 400,000, while customers above 40 earn up to 600,000. We can also notice that among the customer younger than 40, higher concentration of income is between 0-200,000, while among customers above 40 this interval is extended up to 300,000. We can assume that the customers above 40 have a higher spending power. "
   ]
  },
  {
   "cell_type": "code",
   "execution_count": 31,
   "id": "f3bb65df",
   "metadata": {},
   "outputs": [],
   "source": [
    "#Exporting the scatterplot\n",
    "scatter.figure.savefig(os.path.join(path,'04 Analysis', 'Visualizations', 'age_income_scatterplot.png'))"
   ]
  },
  {
   "cell_type": "code",
   "execution_count": 32,
   "id": "6bf43de7",
   "metadata": {},
   "outputs": [
    {
     "data": {
      "text/plain": [
       "(32404859, 32)"
      ]
     },
     "execution_count": 32,
     "metadata": {},
     "output_type": "execute_result"
    }
   ],
   "source": [
    "df_merged.shape"
   ]
  },
  {
   "cell_type": "code",
   "execution_count": 34,
   "id": "4b43539d",
   "metadata": {},
   "outputs": [],
   "source": [
    "#Exporting the dataset\n",
    "df_merged.to_pickle(os.path.join(path, '02 Data', 'Prepared Data', 'final_updated.pkl'))"
   ]
  },
  {
   "cell_type": "code",
   "execution_count": null,
   "id": "cefbd27d",
   "metadata": {},
   "outputs": [],
   "source": []
  }
 ],
 "metadata": {
  "kernelspec": {
   "display_name": "Python 3 (ipykernel)",
   "language": "python",
   "name": "python3"
  },
  "language_info": {
   "codemirror_mode": {
    "name": "ipython",
    "version": 3
   },
   "file_extension": ".py",
   "mimetype": "text/x-python",
   "name": "python",
   "nbconvert_exporter": "python",
   "pygments_lexer": "ipython3",
   "version": "3.9.12"
  }
 },
 "nbformat": 4,
 "nbformat_minor": 5
}
